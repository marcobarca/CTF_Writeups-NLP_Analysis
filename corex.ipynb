{
 "cells": [
  {
   "cell_type": "code",
   "execution_count": 87,
   "id": "84159343",
   "metadata": {},
   "outputs": [],
   "source": [
    "import nltk\n",
    "import pandas as pd\n",
    "\n",
    "writeups = pd.read_csv('./writeups.csv', header=0)\n"
   ]
  },
  {
   "cell_type": "code",
   "execution_count": 88,
   "id": "f2b3038d",
   "metadata": {},
   "outputs": [
    {
     "name": "stdout",
     "output_type": "stream",
     "text": [
      "147\n"
     ]
    }
   ],
   "source": [
    "rows = []\n",
    "for text in writeups[\"Text\"]:\n",
    "    rows.append({\"text\": text})\n",
    "df = pd.DataFrame(rows)\n",
    "print(len(df))\n"
   ]
  },
  {
   "cell_type": "code",
   "execution_count": 89,
   "id": "8d8d1429",
   "metadata": {},
   "outputs": [
    {
     "name": "stderr",
     "output_type": "stream",
     "text": [
      "/Users/marco/opt/anaconda3/lib/python3.9/site-packages/sklearn/utils/deprecation.py:87: FutureWarning: Function get_feature_names is deprecated; get_feature_names is deprecated in 1.0 and will be removed in 1.2. Please use get_feature_names_out instead.\n",
      "  warnings.warn(msg, category=FutureWarning)\n"
     ]
    }
   ],
   "source": [
    "from sklearn.feature_extraction.text import TfidfVectorizer\n",
    "vectorizer = TfidfVectorizer(\n",
    "    max_df=.5,\n",
    "    min_df=10,\n",
    "    max_features=None,\n",
    "    ngram_range=(1, 2),\n",
    "    norm=None,\n",
    "    binary=True,\n",
    "    use_idf=False,\n",
    "    sublinear_tf=False\n",
    ")\n",
    "vectorizer = vectorizer.fit(df['text'])\n",
    "tfidf = vectorizer.transform(df['text'])\n",
    "vocab = vectorizer.get_feature_names()"
   ]
  },
  {
   "cell_type": "code",
   "execution_count": 90,
   "id": "ba273bff",
   "metadata": {},
   "outputs": [
    {
     "name": "stdout",
     "output_type": "stream",
     "text": [
      "WARNING: number of column labels != number of columns of X. Check len(words) and X.shape[1]\n"
     ]
    },
    {
     "ename": "TypeError",
     "evalue": "unhashable type: 'list'",
     "output_type": "error",
     "traceback": [
      "\u001b[0;31m---------------------------------------------------------------------------\u001b[0m",
      "\u001b[0;31mTypeError\u001b[0m                                 Traceback (most recent call last)",
      "Input \u001b[0;32mIn [90]\u001b[0m, in \u001b[0;36m<cell line: 5>\u001b[0;34m()\u001b[0m\n\u001b[1;32m      3\u001b[0m anchors \u001b[38;5;241m=\u001b[39m []\n\u001b[1;32m      4\u001b[0m model \u001b[38;5;241m=\u001b[39m ct\u001b[38;5;241m.\u001b[39mCorex(n_hidden\u001b[38;5;241m=\u001b[39m\u001b[38;5;241m3\u001b[39m, seed\u001b[38;5;241m=\u001b[39m\u001b[38;5;241m42\u001b[39m)\n\u001b[0;32m----> 5\u001b[0m model \u001b[38;5;241m=\u001b[39m \u001b[43mmodel\u001b[49m\u001b[38;5;241;43m.\u001b[39;49m\u001b[43mfit\u001b[49m\u001b[43m(\u001b[49m\n\u001b[1;32m      6\u001b[0m \u001b[43m    \u001b[49m\u001b[43mtfidf\u001b[49m\u001b[43m,\u001b[49m\n\u001b[1;32m      7\u001b[0m \u001b[43m    \u001b[49m\u001b[43mwords\u001b[49m\u001b[38;5;241;43m=\u001b[39;49m\u001b[43mvocab1\u001b[49m\n\u001b[1;32m      8\u001b[0m \u001b[43m)\u001b[49m\n",
      "File \u001b[0;32m~/opt/anaconda3/lib/python3.9/site-packages/corextopic/corextopic.py:147\u001b[0m, in \u001b[0;36mCorex.fit\u001b[0;34m(self, X, y, anchors, anchor_strength, words, docs)\u001b[0m\n\u001b[1;32m    143\u001b[0m \u001b[38;5;28;01mdef\u001b[39;00m \u001b[38;5;21mfit\u001b[39m(\u001b[38;5;28mself\u001b[39m, X, y\u001b[38;5;241m=\u001b[39m\u001b[38;5;28;01mNone\u001b[39;00m, anchors\u001b[38;5;241m=\u001b[39m\u001b[38;5;28;01mNone\u001b[39;00m, anchor_strength\u001b[38;5;241m=\u001b[39m\u001b[38;5;241m1\u001b[39m, words\u001b[38;5;241m=\u001b[39m\u001b[38;5;28;01mNone\u001b[39;00m, docs\u001b[38;5;241m=\u001b[39m\u001b[38;5;28;01mNone\u001b[39;00m):\n\u001b[1;32m    144\u001b[0m     \u001b[38;5;124;03m\"\"\"\u001b[39;00m\n\u001b[1;32m    145\u001b[0m \u001b[38;5;124;03m    Fit CorEx on the data X. See fit_transform.\u001b[39;00m\n\u001b[1;32m    146\u001b[0m \u001b[38;5;124;03m    \"\"\"\u001b[39;00m\n\u001b[0;32m--> 147\u001b[0m     \u001b[38;5;28;43mself\u001b[39;49m\u001b[38;5;241;43m.\u001b[39;49m\u001b[43mfit_transform\u001b[49m\u001b[43m(\u001b[49m\u001b[43mX\u001b[49m\u001b[43m,\u001b[49m\u001b[43m \u001b[49m\u001b[43manchors\u001b[49m\u001b[38;5;241;43m=\u001b[39;49m\u001b[43manchors\u001b[49m\u001b[43m,\u001b[49m\u001b[43m \u001b[49m\u001b[43manchor_strength\u001b[49m\u001b[38;5;241;43m=\u001b[39;49m\u001b[43manchor_strength\u001b[49m\u001b[43m,\u001b[49m\u001b[43m \u001b[49m\u001b[43mwords\u001b[49m\u001b[38;5;241;43m=\u001b[39;49m\u001b[43mwords\u001b[49m\u001b[43m,\u001b[49m\u001b[43m \u001b[49m\u001b[43mdocs\u001b[49m\u001b[38;5;241;43m=\u001b[39;49m\u001b[43mdocs\u001b[49m\u001b[43m)\u001b[49m\n\u001b[1;32m    148\u001b[0m     \u001b[38;5;28;01mreturn\u001b[39;00m \u001b[38;5;28mself\u001b[39m\n",
      "File \u001b[0;32m~/opt/anaconda3/lib/python3.9/site-packages/corextopic/corextopic.py:173\u001b[0m, in \u001b[0;36mCorex.fit_transform\u001b[0;34m(self, X, y, anchors, anchor_strength, words, docs)\u001b[0m\n\u001b[1;32m    151\u001b[0m \u001b[38;5;124;03m\"\"\"Fit CorEx on the data\u001b[39;00m\n\u001b[1;32m    152\u001b[0m \n\u001b[1;32m    153\u001b[0m \u001b[38;5;124;03mParameters\u001b[39;00m\n\u001b[0;32m   (...)\u001b[0m\n\u001b[1;32m    170\u001b[0m \u001b[38;5;124;03m   Y's are sorted so that Y_1 explains most correlation, etc.\u001b[39;00m\n\u001b[1;32m    171\u001b[0m \u001b[38;5;124;03m\"\"\"\u001b[39;00m\n\u001b[1;32m    172\u001b[0m X \u001b[38;5;241m=\u001b[39m \u001b[38;5;28mself\u001b[39m\u001b[38;5;241m.\u001b[39mpreprocess(X)\n\u001b[0;32m--> 173\u001b[0m \u001b[38;5;28;43mself\u001b[39;49m\u001b[38;5;241;43m.\u001b[39;49m\u001b[43minitialize_parameters\u001b[49m\u001b[43m(\u001b[49m\u001b[43mX\u001b[49m\u001b[43m,\u001b[49m\u001b[43m \u001b[49m\u001b[43mwords\u001b[49m\u001b[43m,\u001b[49m\u001b[43m \u001b[49m\u001b[43mdocs\u001b[49m\u001b[43m)\u001b[49m\n\u001b[1;32m    174\u001b[0m \u001b[38;5;28;01mif\u001b[39;00m anchors \u001b[38;5;129;01mis\u001b[39;00m \u001b[38;5;129;01mnot\u001b[39;00m \u001b[38;5;28;01mNone\u001b[39;00m:\n\u001b[1;32m    175\u001b[0m     anchors \u001b[38;5;241m=\u001b[39m \u001b[38;5;28mself\u001b[39m\u001b[38;5;241m.\u001b[39mpreprocess_anchors(\u001b[38;5;28mlist\u001b[39m(anchors))\n",
      "File \u001b[0;32m~/opt/anaconda3/lib/python3.9/site-packages/corextopic/corextopic.py:294\u001b[0m, in \u001b[0;36mCorex.initialize_parameters\u001b[0;34m(self, X, words, docs)\u001b[0m\n\u001b[1;32m    292\u001b[0m     \u001b[38;5;28mprint\u001b[39m(\u001b[38;5;124m'\u001b[39m\u001b[38;5;124mWARNING: number of column labels != number of columns of X. Check len(words) and X.shape[1]\u001b[39m\u001b[38;5;124m'\u001b[39m)\n\u001b[1;32m    293\u001b[0m col_index2word \u001b[38;5;241m=\u001b[39m {index:word \u001b[38;5;28;01mfor\u001b[39;00m index,word \u001b[38;5;129;01min\u001b[39;00m \u001b[38;5;28menumerate\u001b[39m(words)}\n\u001b[0;32m--> 294\u001b[0m word2col_index \u001b[38;5;241m=\u001b[39m {word:index \u001b[38;5;28;01mfor\u001b[39;00m index,word \u001b[38;5;129;01min\u001b[39;00m \u001b[38;5;28menumerate\u001b[39m(words)}\n\u001b[1;32m    295\u001b[0m \u001b[38;5;28mself\u001b[39m\u001b[38;5;241m.\u001b[39mcol_index2word \u001b[38;5;241m=\u001b[39m col_index2word\n\u001b[1;32m    296\u001b[0m \u001b[38;5;28mself\u001b[39m\u001b[38;5;241m.\u001b[39mword2col_index \u001b[38;5;241m=\u001b[39m word2col_index\n",
      "File \u001b[0;32m~/opt/anaconda3/lib/python3.9/site-packages/corextopic/corextopic.py:294\u001b[0m, in \u001b[0;36m<dictcomp>\u001b[0;34m(.0)\u001b[0m\n\u001b[1;32m    292\u001b[0m     \u001b[38;5;28mprint\u001b[39m(\u001b[38;5;124m'\u001b[39m\u001b[38;5;124mWARNING: number of column labels != number of columns of X. Check len(words) and X.shape[1]\u001b[39m\u001b[38;5;124m'\u001b[39m)\n\u001b[1;32m    293\u001b[0m col_index2word \u001b[38;5;241m=\u001b[39m {index:word \u001b[38;5;28;01mfor\u001b[39;00m index,word \u001b[38;5;129;01min\u001b[39;00m \u001b[38;5;28menumerate\u001b[39m(words)}\n\u001b[0;32m--> 294\u001b[0m word2col_index \u001b[38;5;241m=\u001b[39m {word:index \u001b[38;5;28;01mfor\u001b[39;00m index,word \u001b[38;5;129;01min\u001b[39;00m \u001b[38;5;28menumerate\u001b[39m(words)}\n\u001b[1;32m    295\u001b[0m \u001b[38;5;28mself\u001b[39m\u001b[38;5;241m.\u001b[39mcol_index2word \u001b[38;5;241m=\u001b[39m col_index2word\n\u001b[1;32m    296\u001b[0m \u001b[38;5;28mself\u001b[39m\u001b[38;5;241m.\u001b[39mword2col_index \u001b[38;5;241m=\u001b[39m word2col_index\n",
      "\u001b[0;31mTypeError\u001b[0m: unhashable type: 'list'"
     ]
    }
   ],
   "source": [
    "from corextopic import corextopic as ct\n",
    "\n",
    "anchors = []\n",
    "model = ct.Corex(n_hidden=3, seed=42)\n",
    "model = model.fit(\n",
    "    tfidf,\n",
    "    words=vocab\n",
    ")"
   ]
  },
  {
   "cell_type": "code",
   "execution_count": 82,
   "id": "1015177f",
   "metadata": {},
   "outputs": [
    {
     "name": "stdout",
     "output_type": "stream",
     "text": [
      "Topic #1: is, function, so, in, on, there, not, as, since, or\n",
      "Topic #2: from, then, in the, from the, now, will, need, and the, be, need to\n",
      "Topic #3: that, for, of, that the, of the, our, which is, after, source, with\n"
     ]
    }
   ],
   "source": [
    "for i, topic_ngrams in enumerate(model.get_topics(n_words=10)):\n",
    "    topic_ngrams = [ngram[0] for ngram in topic_ngrams if ngram[1] > 0]\n",
    "    print(\"Topic #{}: {}\".format(i+1, \", \".join(topic_ngrams)))"
   ]
  },
  {
   "cell_type": "code",
   "execution_count": 83,
   "id": "f2559aa9",
   "metadata": {},
   "outputs": [],
   "source": [
    "# Anchors designed to nudge the model towards measuring specific genres\n",
    "anchors = [\n",
    "    ['appears', 'user', 'visiting', 'visit', 'says', 'admin', 'link', 'form', 'following', 'login', 'code', 'page', 'website', 'challenge'],\n",
    "    ['inspecting', 'getting', 'looked', 'making', 'entry', 'elements', 'output', 'override', 'reading', 'clear', 'const', 'help', 'tells', 'argument', 'unfortunately', 'users', 'logic', 'long', 'valid', 'exploit', 'controlled', 'leak', 'element', 'note', 'vulnerable', 'access', 'decode', 'statement', 'creates', 'load', 'provided', 'burpsuite', 'idea', 'calls', 'case', 'submit', 'assume', 'checks', 'pretty', 'condition', 'console', 'called', 'problem', 'similar', 'magic', 'different', 'random', 'think', 'client', 'response', 'site', 'provide', 'solve', 'result', 'shows', 'write', 'files', 'given', 'rendered', 'requests', 'happens', 'parameter', 'stored', 'read', 'variable', 'contains', 'web', 'want', 'work', 'gave', 'pass', 'thing', 'process', 'field', 'passed', 'interesting', 'browser', 'run', 'works', 'perform', 'right', 'html', 'text', 'directly', 'character', 'login', 'values', 'method', 'finally', 'way', 'injection', 'make', 'understand', 'post', 'bit', 'add', 'script', 'application', 'know', 'notice', 'create', 'css', 'operator', 'change', 'secret', 'query', 'includes', 'payload', 'path', 'endpoint', 'object', 'template', 'snippet', 'check', 'filter', 'time', 'inject', 'try', 'line', 'username', 'key', 'bypass', 'characters', 'content', 'look', 'data', 'means', 'need', 'set', 'challenge', 'account', 'request', 'type', 'following', 'password', 'index', 'js', 'string', 'like', 'javascript', 'using', 'used', 'website', 'server', 'php', 'array', 'looking', 'input', 'url', 'point', 'error', 'user', 'cookie', 'page', 'use', 'source', 'flag', 'file', 'function', 'value', 'admin', 'code'],\n",
    "    ['data', 'input', 'method', 'local', 'decode', 'js', 'finally', 'force', 'set', 'function', 'execute', 'javascript', 'got', 'line', 'python', 'brute', 'add', 'path', 'query', 'list', 'session', 'inject', 'website', 'html', 'check', 'final', 'create', 'php', 'challenge', 'change', 'parameter', 'filter', 'look', 'result', 'object', 'injection', 'bypass', 'username', 'source', 'cookie', 'access', 'gives', 'http', 'try', 'error', 'array', 'server', 'tried', 'login', 'user', 'code', 'page', 'string', 'receive', 'script', 'password', 'use', 'file', 'following', 'admin', 'url', 'request', 'payload', 'flag']\n",
    "]\n",
    "anchors = [\n",
    "    [a for a in topic if a in vocab]\n",
    "    for topic in anchors\n",
    "]\n",
    "\n",
    "model = ct.Corex(n_hidden=3, seed=42)\n",
    "model = model.fit(\n",
    "    tfidf,\n",
    "    words=vocab,\n",
    "    anchors=anchors, # Pass the anchors in here\n",
    "    anchor_strength=3 # Tell the model how much it should rely on the anchors\n",
    ")"
   ]
  },
  {
   "cell_type": "code",
   "execution_count": 84,
   "id": "e22cf8ed",
   "metadata": {},
   "outputs": [
    {
     "name": "stdout",
     "output_type": "stream",
     "text": [
      "Topic #1: page, following, the following, admin, on, get, on the, login, get the, code\n",
      "Topic #2: need, function, server, source, user, code, script, value, in the, use\n",
      "Topic #3: function, code, source, line, request, input, script, is, url, inject\n"
     ]
    }
   ],
   "source": [
    "for i, topic_ngrams in enumerate(model.get_topics(n_words=10)):\n",
    "    topic_ngrams = [ngram[0] for ngram in topic_ngrams if ngram[1] > 0]\n",
    "    print(\"Topic #{}: {}\".format(i+1, \", \".join(topic_ngrams)))"
   ]
  },
  {
   "cell_type": "code",
   "execution_count": 85,
   "id": "96471d83",
   "metadata": {},
   "outputs": [],
   "source": [
    "topic_df = pd.DataFrame(\n",
    "    model.transform(tfidf), \n",
    "    columns=[\"topic_{}\".format(i+1) for i in range(3)]\n",
    ").astype(float)\n",
    "topic_df.index = df.index\n",
    "df = pd.concat([df, topic_df], axis=1)"
   ]
  },
  {
   "cell_type": "code",
   "execution_count": 86,
   "id": "691d9f42",
   "metadata": {},
   "outputs": [
    {
     "data": {
      "text/html": [
       "<div>\n",
       "<style scoped>\n",
       "    .dataframe tbody tr th:only-of-type {\n",
       "        vertical-align: middle;\n",
       "    }\n",
       "\n",
       "    .dataframe tbody tr th {\n",
       "        vertical-align: top;\n",
       "    }\n",
       "\n",
       "    .dataframe thead th {\n",
       "        text-align: right;\n",
       "    }\n",
       "</style>\n",
       "<table border=\"1\" class=\"dataframe\">\n",
       "  <thead>\n",
       "    <tr style=\"text-align: right;\">\n",
       "      <th></th>\n",
       "      <th>text</th>\n",
       "      <th>topic_1</th>\n",
       "      <th>topic_2</th>\n",
       "      <th>topic_3</th>\n",
       "    </tr>\n",
       "  </thead>\n",
       "  <tbody>\n",
       "    <tr>\n",
       "      <th>125</th>\n",
       "      <td>The code is nearly 300 lines... There is a log...</td>\n",
       "      <td>1.0</td>\n",
       "      <td>1.0</td>\n",
       "      <td>1.0</td>\n",
       "    </tr>\n",
       "    <tr>\n",
       "      <th>51</th>\n",
       "      <td>So, my plan is simple. I will create an accoun...</td>\n",
       "      <td>1.0</td>\n",
       "      <td>1.0</td>\n",
       "      <td>1.0</td>\n",
       "    </tr>\n",
       "    <tr>\n",
       "      <th>138</th>\n",
       "      <td>Opening the website greets us with a 'login' p...</td>\n",
       "      <td>1.0</td>\n",
       "      <td>0.0</td>\n",
       "      <td>0.0</td>\n",
       "    </tr>\n",
       "    <tr>\n",
       "      <th>19</th>\n",
       "      <td>We know that the username field must be \"admin...</td>\n",
       "      <td>0.0</td>\n",
       "      <td>1.0</td>\n",
       "      <td>1.0</td>\n",
       "    </tr>\n",
       "    <tr>\n",
       "      <th>104</th>\n",
       "      <td>When we visit the website, we can see an input...</td>\n",
       "      <td>0.0</td>\n",
       "      <td>0.0</td>\n",
       "      <td>0.0</td>\n",
       "    </tr>\n",
       "  </tbody>\n",
       "</table>\n",
       "</div>"
      ],
      "text/plain": [
       "                                                  text  topic_1  topic_2  \\\n",
       "125  The code is nearly 300 lines... There is a log...      1.0      1.0   \n",
       "51   So, my plan is simple. I will create an accoun...      1.0      1.0   \n",
       "138  Opening the website greets us with a 'login' p...      1.0      0.0   \n",
       "19   We know that the username field must be \"admin...      0.0      1.0   \n",
       "104  When we visit the website, we can see an input...      0.0      0.0   \n",
       "\n",
       "     topic_3  \n",
       "125      1.0  \n",
       "51       1.0  \n",
       "138      0.0  \n",
       "19       1.0  \n",
       "104      0.0  "
      ]
     },
     "execution_count": 86,
     "metadata": {},
     "output_type": "execute_result"
    }
   ],
   "source": [
    "df.sample(5, random_state=42)"
   ]
  },
  {
   "cell_type": "code",
   "execution_count": null,
   "id": "2f6e3630",
   "metadata": {},
   "outputs": [],
   "source": []
  }
 ],
 "metadata": {
  "kernelspec": {
   "display_name": "Python 3 (ipykernel)",
   "language": "python",
   "name": "python3"
  },
  "language_info": {
   "codemirror_mode": {
    "name": "ipython",
    "version": 3
   },
   "file_extension": ".py",
   "mimetype": "text/x-python",
   "name": "python",
   "nbconvert_exporter": "python",
   "pygments_lexer": "ipython3",
   "version": "3.9.12"
  }
 },
 "nbformat": 4,
 "nbformat_minor": 5
}
