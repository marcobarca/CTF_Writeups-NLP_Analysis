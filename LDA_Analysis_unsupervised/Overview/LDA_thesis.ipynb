{
 "cells": [
  {
   "cell_type": "code",
   "execution_count": 25,
   "id": "12d922d1",
   "metadata": {},
   "outputs": [],
   "source": [
    "import pandas as pd"
   ]
  },
  {
   "cell_type": "code",
   "execution_count": 26,
   "id": "3157b0c5",
   "metadata": {},
   "outputs": [],
   "source": [
    "npr = pd.read_csv('../writeups_overview.csv')"
   ]
  },
  {
   "cell_type": "code",
   "execution_count": 27,
   "id": "45288638",
   "metadata": {},
   "outputs": [
    {
     "name": "stdout",
     "output_type": "stream",
     "text": [
      "There are 44 rows and 4 columns in the training set after removing empty rows\n"
     ]
    }
   ],
   "source": [
    "# Check the first 5 rows of the csv\n",
    "npr.head()\n",
    "npr.dropna()\n",
    "nRow, nCol = npr.shape\n",
    "print(f'There are {nRow} rows and {nCol} columns in the training set after removing empty rows')\n"
   ]
  },
  {
   "cell_type": "code",
   "execution_count": 28,
   "id": "268b8529",
   "metadata": {},
   "outputs": [
    {
     "data": {
      "text/plain": [
       "'Visiting the website, we are presented with a login form (and a Robert Frost poem).\\nThe hint says \"XPATH\", and using some common XPATH injection techniques we can leak some information about the underlying DB.\\n'"
      ]
     },
     "execution_count": 28,
     "metadata": {},
     "output_type": "execute_result"
    }
   ],
   "source": [
    "# Let's see the first text\n",
    "npr['Text'][0]"
   ]
  },
  {
   "cell_type": "code",
   "execution_count": 29,
   "id": "138315b3",
   "metadata": {},
   "outputs": [
    {
     "data": {
      "text/plain": [
       "44"
      ]
     },
     "execution_count": 29,
     "metadata": {},
     "output_type": "execute_result"
    }
   ],
   "source": [
    "# Number of rows of the dataset\n",
    "len(npr)"
   ]
  },
  {
   "cell_type": "code",
   "execution_count": 30,
   "id": "bb7b4c32",
   "metadata": {},
   "outputs": [
    {
     "data": {
      "text/plain": [
       "<44x18 sparse matrix of type '<class 'numpy.int64'>'\n",
       "\twith 126 stored elements in Compressed Sparse Row format>"
      ]
     },
     "execution_count": 30,
     "metadata": {},
     "output_type": "execute_result"
    }
   ],
   "source": [
    "# Preprocessing\n",
    "\n",
    "from sklearn.feature_extraction.text import CountVectorizer\n",
    "\n",
    "# max_df = ignore high frequency terms (0-1)\n",
    "# min_df = ignore low frequency terms (min # of documents containing it)\n",
    "cv = CountVectorizer(max_df=0.9, min_df=4, stop_words='english')\n",
    "\n",
    "dtm = cv.fit_transform(npr['Text'])\n",
    "\n",
    "dtm"
   ]
  },
  {
   "cell_type": "code",
   "execution_count": 31,
   "id": "c0b09e57",
   "metadata": {},
   "outputs": [
    {
     "data": {
      "text/plain": [
       "LatentDirichletAllocation(n_components=1, random_state=42)"
      ]
     },
     "execution_count": 31,
     "metadata": {},
     "output_type": "execute_result"
    }
   ],
   "source": [
    "# LDA\n",
    "\n",
    "from sklearn.decomposition import LatentDirichletAllocation\n",
    "\n",
    "# n_components is the number of topics we are looking for\n",
    "LDA = LatentDirichletAllocation(n_components=1, random_state=42)\n",
    "\n",
    "LDA.fit(dtm)"
   ]
  },
  {
   "cell_type": "code",
   "execution_count": 32,
   "id": "55ffb5f4",
   "metadata": {},
   "outputs": [
    {
     "name": "stderr",
     "output_type": "stream",
     "text": [
      "/Users/marco/opt/anaconda3/lib/python3.9/site-packages/sklearn/utils/deprecation.py:87: FutureWarning: Function get_feature_names is deprecated; get_feature_names is deprecated in 1.0 and will be removed in 1.2. Please use get_feature_names_out instead.\n",
      "  warnings.warn(msg, category=FutureWarning)\n"
     ]
    },
    {
     "data": {
      "text/plain": [
       "'visiting'"
      ]
     },
     "execution_count": 32,
     "metadata": {},
     "output_type": "execute_result"
    }
   ],
   "source": [
    "# Grab the vocabulary of words\n",
    "\n",
    "import random\n",
    "\n",
    "#len(cv.get_feature_names()) #18\n",
    "\n",
    "random_word_id = random.randint(0,18)\n",
    "\n",
    "cv.get_feature_names()[random_word_id]"
   ]
  },
  {
   "cell_type": "code",
   "execution_count": 33,
   "id": "dcd03d8e",
   "metadata": {},
   "outputs": [
    {
     "name": "stdout",
     "output_type": "stream",
     "text": [
      "injection\n",
      "link\n",
      "form\n",
      "following\n",
      "flag\n",
      "login\n",
      "code\n",
      "page\n",
      "website\n",
      "challenge\n"
     ]
    }
   ],
   "source": [
    "# Grab the topics\n",
    "\n",
    "#len(LDA.components_) #3\n",
    "\n",
    "#type(LDA.components_) #numpy.ndarray - Contains the words and their probability\n",
    "\n",
    "# LDA.components_.shape # (3,589)\n",
    "\n",
    "single_topic = LDA.components_[0]\n",
    "\n",
    "single_topic.argsort() # returns an array containing the index position of each word instead of the word itself\n",
    "\n",
    "# ARGSORT ----> INDEX POSITION SORTED FROM LEAST TO GREATEST\n",
    "# TOP 10 VALUES (10 GREATEST VALUES)\n",
    "# LAST 10 VALUES of argsort()\n",
    "single_topic.argsort()[-10:] # grab the last 10 values of .argsort()\n",
    "\n",
    "top_ten_words = single_topic.argsort()[-10:]\n",
    "\n",
    "for index in top_ten_words:\n",
    "    print(cv.get_feature_names()[index])"
   ]
  },
  {
   "cell_type": "code",
   "execution_count": 39,
   "id": "54da6d9d",
   "metadata": {},
   "outputs": [
    {
     "name": "stdout",
     "output_type": "stream",
     "text": [
      "THE TOP 15 WORDS FOR TOPIC #0\n",
      "['appears', 'user', 'just', 'visiting', 'visit', 'different', 'says', 'admin', 'injection', 'link', 'form', 'following', 'flag', 'login', 'code', 'page', 'website', 'challenge']\n",
      "\n",
      "\n"
     ]
    }
   ],
   "source": [
    "# Grab the highest probability words per topic\n",
    "\n",
    "for i,topic in enumerate(LDA.components_):\n",
    "    print(f\"THE TOP 15 WORDS FOR TOPIC #{i}\")\n",
    "    print([cv.get_feature_names()[index] for index in topic.argsort()[-20:]])\n",
    "    print('\\n')"
   ]
  },
  {
   "cell_type": "code",
   "execution_count": 35,
   "id": "3f0fbcac",
   "metadata": {},
   "outputs": [],
   "source": [
    "\n",
    "# Put in column the top\n",
    "topic_results = LDA.transform(dtm)\n",
    "\n",
    "npr['Topic'] = topic_results.argmax(axis=1)\n",
    "\n",
    "topic_dictionary = {0:'Topic 0',1:'Topic 1',2:'Topic 2'}\n",
    "\n",
    "npr['Topic Label'] = npr['Topic'].map(topic_dictionary)"
   ]
  },
  {
   "cell_type": "code",
   "execution_count": 36,
   "id": "af62b0ec",
   "metadata": {},
   "outputs": [],
   "source": [
    "type(npr)\n",
    "\n",
    "npr.to_csv(r'LDA_export_dataframe.csv', index=False, header=True)"
   ]
  },
  {
   "cell_type": "code",
   "execution_count": null,
   "id": "0a2f2326",
   "metadata": {},
   "outputs": [],
   "source": []
  }
 ],
 "metadata": {
  "kernelspec": {
   "display_name": "Python 3 (ipykernel)",
   "language": "python",
   "name": "python3"
  },
  "language_info": {
   "codemirror_mode": {
    "name": "ipython",
    "version": 3
   },
   "file_extension": ".py",
   "mimetype": "text/x-python",
   "name": "python",
   "nbconvert_exporter": "python",
   "pygments_lexer": "ipython3",
   "version": "3.9.12"
  }
 },
 "nbformat": 4,
 "nbformat_minor": 5
}
