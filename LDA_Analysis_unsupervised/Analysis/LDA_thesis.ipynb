{
 "cells": [
  {
   "cell_type": "code",
   "execution_count": 9,
   "id": "12d922d1",
   "metadata": {},
   "outputs": [],
   "source": [
    "import pandas as pd"
   ]
  },
  {
   "cell_type": "code",
   "execution_count": 10,
   "id": "3157b0c5",
   "metadata": {},
   "outputs": [],
   "source": [
    "npr = pd.read_csv('./writeups_analysis.csv')"
   ]
  },
  {
   "cell_type": "code",
   "execution_count": 11,
   "id": "45288638",
   "metadata": {},
   "outputs": [
    {
     "data": {
      "text/html": [
       "<div>\n",
       "<style scoped>\n",
       "    .dataframe tbody tr th:only-of-type {\n",
       "        vertical-align: middle;\n",
       "    }\n",
       "\n",
       "    .dataframe tbody tr th {\n",
       "        vertical-align: top;\n",
       "    }\n",
       "\n",
       "    .dataframe thead th {\n",
       "        text-align: right;\n",
       "    }\n",
       "</style>\n",
       "<table border=\"1\" class=\"dataframe\">\n",
       "  <thead>\n",
       "    <tr style=\"text-align: right;\">\n",
       "      <th></th>\n",
       "      <th>Writeup_name</th>\n",
       "      <th>Category</th>\n",
       "      <th>Text</th>\n",
       "      <th>Label</th>\n",
       "    </tr>\n",
       "  </thead>\n",
       "  <tbody>\n",
       "    <tr>\n",
       "      <th>0</th>\n",
       "      <td>XMarkTheSpot</td>\n",
       "      <td>web</td>\n",
       "      <td>The idea is similar to SQL injection. \\nWe hav...</td>\n",
       "      <td>analysis</td>\n",
       "    </tr>\n",
       "    <tr>\n",
       "      <th>1</th>\n",
       "      <td>Members</td>\n",
       "      <td>web</td>\n",
       "      <td>If we leave the search query empty, we would s...</td>\n",
       "      <td>analysis</td>\n",
       "    </tr>\n",
       "    <tr>\n",
       "      <th>2</th>\n",
       "      <td>05_Cursed_Secret_Party</td>\n",
       "      <td>web</td>\n",
       "      <td>Looking into the burpsuite proxy, it is postin...</td>\n",
       "      <td>analysis</td>\n",
       "    </tr>\n",
       "    <tr>\n",
       "      <th>3</th>\n",
       "      <td>High_Security</td>\n",
       "      <td>web</td>\n",
       "      <td>Instead of the path /members, this time we hav...</td>\n",
       "      <td>analysis</td>\n",
       "    </tr>\n",
       "    <tr>\n",
       "      <th>4</th>\n",
       "      <td>27_Forbidden_Paths</td>\n",
       "      <td>web</td>\n",
       "      <td>With file paths, a preceeding ./ means the cur...</td>\n",
       "      <td>analysis</td>\n",
       "    </tr>\n",
       "  </tbody>\n",
       "</table>\n",
       "</div>"
      ],
      "text/plain": [
       "             Writeup_name Category  \\\n",
       "0            XMarkTheSpot      web   \n",
       "1                 Members      web   \n",
       "2  05_Cursed_Secret_Party      web   \n",
       "3           High_Security      web   \n",
       "4      27_Forbidden_Paths      web   \n",
       "\n",
       "                                                Text     Label  \n",
       "0  The idea is similar to SQL injection. \\nWe hav...  analysis  \n",
       "1  If we leave the search query empty, we would s...  analysis  \n",
       "2  Looking into the burpsuite proxy, it is postin...  analysis  \n",
       "3  Instead of the path /members, this time we hav...  analysis  \n",
       "4  With file paths, a preceeding ./ means the cur...  analysis  "
      ]
     },
     "execution_count": 11,
     "metadata": {},
     "output_type": "execute_result"
    }
   ],
   "source": [
    "# Check the first 5 rows of the csv\n",
    "npr.head()"
   ]
  },
  {
   "cell_type": "code",
   "execution_count": 12,
   "id": "268b8529",
   "metadata": {},
   "outputs": [
    {
     "data": {
      "text/plain": [
       "'The idea is similar to SQL injection. \\nWe have a vulnerable query for authenticating the username and password which should be similar to.\\nSo, if we inject some valid XPATH vocabulary into the query, we can manipulate it.\\n'"
      ]
     },
     "execution_count": 12,
     "metadata": {},
     "output_type": "execute_result"
    }
   ],
   "source": [
    "# Let's see the first text\n",
    "npr['Text'][0]"
   ]
  },
  {
   "cell_type": "code",
   "execution_count": 13,
   "id": "138315b3",
   "metadata": {},
   "outputs": [
    {
     "data": {
      "text/plain": [
       "51"
      ]
     },
     "execution_count": 13,
     "metadata": {},
     "output_type": "execute_result"
    }
   ],
   "source": [
    "# Number of rows of the dataset\n",
    "len(npr)"
   ]
  },
  {
   "cell_type": "code",
   "execution_count": 14,
   "id": "bb7b4c32",
   "metadata": {},
   "outputs": [
    {
     "data": {
      "text/plain": [
       "<51x179 sparse matrix of type '<class 'numpy.int64'>'\n",
       "\twith 1174 stored elements in Compressed Sparse Row format>"
      ]
     },
     "execution_count": 14,
     "metadata": {},
     "output_type": "execute_result"
    }
   ],
   "source": [
    "# Preprocessing\n",
    "\n",
    "from sklearn.feature_extraction.text import CountVectorizer\n",
    "\n",
    "# max_df = ignore high frequency terms (0-1)\n",
    "# min_df = ignore low frequency terms (min # of documents containing it)\n",
    "cv = CountVectorizer(max_df=0.9, min_df=4, stop_words='english')\n",
    "\n",
    "dtm = cv.fit_transform(npr['Text'])\n",
    "\n",
    "dtm"
   ]
  },
  {
   "cell_type": "code",
   "execution_count": 15,
   "id": "c0b09e57",
   "metadata": {},
   "outputs": [
    {
     "data": {
      "text/plain": [
       "LatentDirichletAllocation(n_components=1, random_state=42)"
      ]
     },
     "execution_count": 15,
     "metadata": {},
     "output_type": "execute_result"
    }
   ],
   "source": [
    "# LDA\n",
    "\n",
    "from sklearn.decomposition import LatentDirichletAllocation\n",
    "\n",
    "# n_components is the number of topics we are looking for\n",
    "LDA = LatentDirichletAllocation(n_components=1, random_state=42)\n",
    "\n",
    "LDA.fit(dtm)"
   ]
  },
  {
   "cell_type": "code",
   "execution_count": 16,
   "id": "55ffb5f4",
   "metadata": {},
   "outputs": [
    {
     "name": "stderr",
     "output_type": "stream",
     "text": [
      "/Users/marco/opt/anaconda3/lib/python3.9/site-packages/sklearn/utils/deprecation.py:87: FutureWarning: Function get_feature_names is deprecated; get_feature_names is deprecated in 1.0 and will be removed in 1.2. Please use get_feature_names_out instead.\n",
      "  warnings.warn(msg, category=FutureWarning)\n"
     ]
    },
    {
     "data": {
      "text/plain": [
       "'tells'"
      ]
     },
     "execution_count": 16,
     "metadata": {},
     "output_type": "execute_result"
    }
   ],
   "source": [
    "# Grab the vocabulary of words\n",
    "\n",
    "import random\n",
    "\n",
    "#len(cv.get_feature_names()) #589\n",
    "\n",
    "random_word_id = random.randint(0,179)\n",
    "\n",
    "cv.get_feature_names()[random_word_id]"
   ]
  },
  {
   "cell_type": "code",
   "execution_count": 17,
   "id": "dcd03d8e",
   "metadata": {},
   "outputs": [
    {
     "name": "stdout",
     "output_type": "stream",
     "text": [
      "let\n",
      "page\n",
      "use\n",
      "source\n",
      "flag\n",
      "file\n",
      "function\n",
      "value\n",
      "admin\n",
      "code\n"
     ]
    }
   ],
   "source": [
    "# Grab the topics\n",
    "\n",
    "#len(LDA.components_) #3\n",
    "\n",
    "#type(LDA.components_) #numpy.ndarray - Contains the words and their probability\n",
    "\n",
    "# LDA.components_.shape # (3,589)\n",
    "\n",
    "single_topic = LDA.components_[0]\n",
    "\n",
    "single_topic.argsort() # returns an array containing the index position of each word instead of the word itself\n",
    "\n",
    "# ARGSORT ----> INDEX POSITION SORTED FROM LEAST TO GREATEST\n",
    "# TOP 10 VALUES (10 GREATEST VALUES)\n",
    "# LAST 10 VALUES of argsort()\n",
    "single_topic.argsort()[-10:] # grab the last 10 values of .argsort()\n",
    "\n",
    "top_ten_words = single_topic.argsort()[-10:]\n",
    "\n",
    "for index in top_ten_words:\n",
    "    print(cv.get_feature_names()[index])"
   ]
  },
  {
   "cell_type": "code",
   "execution_count": 23,
   "id": "54da6d9d",
   "metadata": {},
   "outputs": [
    {
     "name": "stdout",
     "output_type": "stream",
     "text": [
      "THE TOP 15 WORDS FOR TOPIC #0\n",
      "['able', 'inspecting', 'getting', 'io', 'looked', 'making', 'entry', 'elements', 'output', 'override', 'reading', 'clear', 'const', 'help', 'tells', 'argument', 'unfortunately', 'users', 'logic', 'long', 'valid', 'exploit', 'controlled', 'leak', 'element', 'note', 'vulnerable', 'access', 'decode', 'statement', 'creates', 'load', 'provided', 'burpsuite', 'idea', 'calls', 'case', 'second', 'submit', 'assume', 'checks', 'pretty', 'condition', 'console', 'called', 'instead', 'actually', 'll', 'problem', 'similar', 'magic', 'different', 'random', 'new', 'think', 'click', 'client', 'response', 'picoctf', 'site', 'provide', 'solve', 'result', 'shows', 'write', 'files', 'given', 'completely', 'rendered', 'requests', 'happens', 'parameter', 'stored', 'app', 'read', 'variable', 'contains', 'web', 'want', 'work', 'gave', 'pass', 'thing', 'process', 'field', 'passed', 'interesting', 'simply', 'browser', 'run', 'works', 'perform', 'right', 'html', 'text', 'directly', 'character', 'login', 'values', 'method', 'finally', 'way', 'injection', 'make', 'understand', 'post', 'bit', 'add', 'script', 'does', 'application', 'know', 'notice', 'create', 'css', 'operator', 'change', 'doesn', 'secret', 'query', 'just', 'includes', 'things', 'payload', 'path', 'endpoint', 'object', 'template', 'snippet', 'check', 'filter', 'time', 'inject', 'try', 'line', 'username', 'key', 'bypass', 'characters', 'content', 'look', 'data', 'means', 'need', 'set', 'challenge', 'account', 'request', 'type', 'following', 'password', 'index', 'js', 'string', 'like', 'javascript', 'using', 'used', 'website', 'server', 'php', 'array', 'looking', 'input', 'url', 'point', 'error', 'user', 'cookie', 'let', 'page', 'use', 'source', 'flag', 'file', 'function', 'value', 'admin', 'code']\n",
      "\n",
      "\n"
     ]
    }
   ],
   "source": [
    "# Grab the highest probability words per topic\n",
    "\n",
    "for i,topic in enumerate(LDA.components_):\n",
    "    print(f\"THE TOP 15 WORDS FOR TOPIC #{i}\")\n",
    "    print([cv.get_feature_names()[index] for index in topic.argsort()[-10000:]])\n",
    "    print('\\n')"
   ]
  },
  {
   "cell_type": "code",
   "execution_count": 19,
   "id": "3f0fbcac",
   "metadata": {},
   "outputs": [],
   "source": [
    "\n",
    "# Put in column the top\n",
    "topic_results = LDA.transform(dtm)\n",
    "\n",
    "npr['Topic'] = topic_results.argmax(axis=1)\n",
    "\n",
    "topic_dictionary = {0:'Topic 0',1:'Topic 1',2:'Topic 2'}\n",
    "\n",
    "npr['Topic Label'] = npr['Topic'].map(topic_dictionary)"
   ]
  },
  {
   "cell_type": "code",
   "execution_count": 20,
   "id": "af62b0ec",
   "metadata": {},
   "outputs": [],
   "source": [
    "type(npr)\n",
    "\n",
    "npr.to_csv(r'LDA_export_dataframe.csv', index=False, header=True)"
   ]
  },
  {
   "cell_type": "code",
   "execution_count": null,
   "id": "0a2f2326",
   "metadata": {},
   "outputs": [],
   "source": []
  }
 ],
 "metadata": {
  "kernelspec": {
   "display_name": "Python 3 (ipykernel)",
   "language": "python",
   "name": "python3"
  },
  "language_info": {
   "codemirror_mode": {
    "name": "ipython",
    "version": 3
   },
   "file_extension": ".py",
   "mimetype": "text/x-python",
   "name": "python",
   "nbconvert_exporter": "python",
   "pygments_lexer": "ipython3",
   "version": "3.9.12"
  }
 },
 "nbformat": 4,
 "nbformat_minor": 5
}
