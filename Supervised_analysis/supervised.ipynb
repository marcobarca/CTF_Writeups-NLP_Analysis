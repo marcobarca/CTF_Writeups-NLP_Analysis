{
 "cells": [
  {
   "cell_type": "code",
   "execution_count": 12,
   "id": "97b58242",
   "metadata": {},
   "outputs": [
    {
     "name": "stderr",
     "output_type": "stream",
     "text": [
      "[nltk_data] Downloading package punkt to /Users/marco/nltk_data...\n",
      "[nltk_data]   Package punkt is already up-to-date!\n",
      "[nltk_data] Downloading package averaged_perceptron_tagger to\n",
      "[nltk_data]     /Users/marco/nltk_data...\n",
      "[nltk_data]   Package averaged_perceptron_tagger is already up-to-\n",
      "[nltk_data]       date!\n",
      "[nltk_data] Downloading package stopwords to /Users/marco/nltk_data...\n",
      "[nltk_data]   Package stopwords is already up-to-date!\n"
     ]
    }
   ],
   "source": [
    "from time import time\n",
    "import pandas as pd\n",
    "import numpy as np\n",
    "import re\n",
    "import sys\n",
    "import csv\n",
    "csv.field_size_limit(sys.maxsize)\n",
    "\n",
    "import matplotlib.pyplot as plt\n",
    "from matplotlib import rcParams\n",
    "import seaborn as sns\n",
    "\n",
    "import nltk\n",
    "nltk.download('punkt')\n",
    "nltk.download('averaged_perceptron_tagger')\n",
    "nltk.download('stopwords')\n",
    "stopwords = nltk.corpus.stopwords.words('english')\n",
    "from nltk.corpus import stopwords\n",
    "from nltk.tokenize import word_tokenize\n",
    "\n",
    "import itertools\n",
    "import datetime\n",
    "\n",
    "import pprint\n",
    "import warnings\n",
    "warnings.filterwarnings('ignore')\n",
    "\n",
    "from sklearn.feature_extraction.text import CountVectorizer\n",
    "from sklearn.naive_bayes import MultinomialNB\n",
    "from sklearn.feature_extraction.text import TfidfTransformer\n",
    "from sklearn.ensemble import RandomForestClassifier, ExtraTreesClassifier,AdaBoostClassifier\n",
    "from sklearn.tree import DecisionTreeClassifier"
   ]
  },
  {
   "cell_type": "code",
   "execution_count": 13,
   "id": "f2aec607",
   "metadata": {},
   "outputs": [
    {
     "name": "stdout",
     "output_type": "stream",
     "text": [
      "There are 147 rows and 4 columns in the training set\n",
      "There are 147 rows and 4 columns in the training set after removing empty rows\n"
     ]
    },
    {
     "data": {
      "text/html": [
       "<div>\n",
       "<style scoped>\n",
       "    .dataframe tbody tr th:only-of-type {\n",
       "        vertical-align: middle;\n",
       "    }\n",
       "\n",
       "    .dataframe tbody tr th {\n",
       "        vertical-align: top;\n",
       "    }\n",
       "\n",
       "    .dataframe thead th {\n",
       "        text-align: right;\n",
       "    }\n",
       "</style>\n",
       "<table border=\"1\" class=\"dataframe\">\n",
       "  <thead>\n",
       "    <tr style=\"text-align: right;\">\n",
       "      <th></th>\n",
       "      <th>Writeup_name</th>\n",
       "      <th>Category</th>\n",
       "      <th>Text</th>\n",
       "      <th>Label</th>\n",
       "    </tr>\n",
       "  </thead>\n",
       "  <tbody>\n",
       "    <tr>\n",
       "      <th>0</th>\n",
       "      <td>XMarkTheSpot</td>\n",
       "      <td>web</td>\n",
       "      <td>Visiting the website, we are presented with a ...</td>\n",
       "      <td>overview</td>\n",
       "    </tr>\n",
       "    <tr>\n",
       "      <th>1</th>\n",
       "      <td>XMarkTheSpot</td>\n",
       "      <td>web</td>\n",
       "      <td>The idea is similar to SQL injection. \\nWe hav...</td>\n",
       "      <td>analysis</td>\n",
       "    </tr>\n",
       "    <tr>\n",
       "      <th>2</th>\n",
       "      <td>XMarkTheSpot</td>\n",
       "      <td>web</td>\n",
       "      <td>For example, let's inject:\\nThis should tell u...</td>\n",
       "      <td>attack_execution</td>\n",
       "    </tr>\n",
       "    <tr>\n",
       "      <th>3</th>\n",
       "      <td>Members</td>\n",
       "      <td>web</td>\n",
       "      <td>In the challenge members, we need to get more ...</td>\n",
       "      <td>overview</td>\n",
       "    </tr>\n",
       "    <tr>\n",
       "      <th>4</th>\n",
       "      <td>Members</td>\n",
       "      <td>web</td>\n",
       "      <td>If we leave the search query empty, we would s...</td>\n",
       "      <td>analysis</td>\n",
       "    </tr>\n",
       "  </tbody>\n",
       "</table>\n",
       "</div>"
      ],
      "text/plain": [
       "   Writeup_name Category                                               Text  \\\n",
       "0  XMarkTheSpot      web  Visiting the website, we are presented with a ...   \n",
       "1  XMarkTheSpot      web  The idea is similar to SQL injection. \\nWe hav...   \n",
       "2  XMarkTheSpot      web  For example, let's inject:\\nThis should tell u...   \n",
       "3       Members      web  In the challenge members, we need to get more ...   \n",
       "4       Members      web  If we leave the search query empty, we would s...   \n",
       "\n",
       "              Label  \n",
       "0          overview  \n",
       "1          analysis  \n",
       "2  attack_execution  \n",
       "3          overview  \n",
       "4          analysis  "
      ]
     },
     "execution_count": 13,
     "metadata": {},
     "output_type": "execute_result"
    }
   ],
   "source": [
    "train = pd.read_csv('../writeups.csv', header=0)\n",
    "train = train.applymap(lambda x: x.strip() if isinstance(x, str) else x)\n",
    "\n",
    "nRow, nCol = train.shape\n",
    "print(f'There are {nRow} rows and {nCol} columns in the training set')\n",
    "\n",
    "# Removing empty rows from csv \n",
    "train.dropna(axis=0, how='all',inplace=True)\n",
    "nRow, nCol = train.shape\n",
    "print(f'There are {nRow} rows and {nCol} columns in the training set after removing empty rows')\n",
    "\n",
    "train.head()"
   ]
  },
  {
   "cell_type": "code",
   "execution_count": 14,
   "id": "1dc125fc",
   "metadata": {},
   "outputs": [
    {
     "name": "stdout",
     "output_type": "stream",
     "text": [
      "<class 'pandas.core.frame.DataFrame'>\n",
      "RangeIndex: 147 entries, 0 to 146\n",
      "Data columns (total 4 columns):\n",
      " #   Column        Non-Null Count  Dtype \n",
      "---  ------        --------------  ----- \n",
      " 0   Writeup_name  147 non-null    object\n",
      " 1   Category      147 non-null    object\n",
      " 2   Text          147 non-null    object\n",
      " 3   Label         147 non-null    object\n",
      "dtypes: object(4)\n",
      "memory usage: 4.7+ KB\n"
     ]
    }
   ],
   "source": [
    "train.info()"
   ]
  },
  {
   "cell_type": "code",
   "execution_count": 15,
   "id": "76cb1665",
   "metadata": {},
   "outputs": [
    {
     "data": {
      "text/plain": [
       "Writeup_name    0\n",
       "Category        0\n",
       "Text            0\n",
       "Label           0\n",
       "dtype: int64"
      ]
     },
     "execution_count": 15,
     "metadata": {},
     "output_type": "execute_result"
    }
   ],
   "source": [
    "train.isnull().sum()"
   ]
  },
  {
   "cell_type": "code",
   "execution_count": 16,
   "id": "472556ff",
   "metadata": {},
   "outputs": [
    {
     "name": "stdout",
     "output_type": "stream",
     "text": [
      "There are 147 rows and 4 columns in the training set after removing empty \"text\" columns\n"
     ]
    },
    {
     "data": {
      "text/html": [
       "<div>\n",
       "<style scoped>\n",
       "    .dataframe tbody tr th:only-of-type {\n",
       "        vertical-align: middle;\n",
       "    }\n",
       "\n",
       "    .dataframe tbody tr th {\n",
       "        vertical-align: top;\n",
       "    }\n",
       "\n",
       "    .dataframe thead th {\n",
       "        text-align: right;\n",
       "    }\n",
       "</style>\n",
       "<table border=\"1\" class=\"dataframe\">\n",
       "  <thead>\n",
       "    <tr style=\"text-align: right;\">\n",
       "      <th></th>\n",
       "      <th>Writeup_name</th>\n",
       "      <th>Category</th>\n",
       "      <th>Text</th>\n",
       "      <th>Label</th>\n",
       "    </tr>\n",
       "  </thead>\n",
       "  <tbody>\n",
       "    <tr>\n",
       "      <th>0</th>\n",
       "      <td>XMarkTheSpot</td>\n",
       "      <td>web</td>\n",
       "      <td>Visiting the website, we are presented with a ...</td>\n",
       "      <td>overview</td>\n",
       "    </tr>\n",
       "    <tr>\n",
       "      <th>1</th>\n",
       "      <td>XMarkTheSpot</td>\n",
       "      <td>web</td>\n",
       "      <td>The idea is similar to SQL injection. \\nWe hav...</td>\n",
       "      <td>analysis</td>\n",
       "    </tr>\n",
       "    <tr>\n",
       "      <th>2</th>\n",
       "      <td>XMarkTheSpot</td>\n",
       "      <td>web</td>\n",
       "      <td>For example, let's inject:\\nThis should tell u...</td>\n",
       "      <td>attack_execution</td>\n",
       "    </tr>\n",
       "    <tr>\n",
       "      <th>3</th>\n",
       "      <td>Members</td>\n",
       "      <td>web</td>\n",
       "      <td>In the challenge members, we need to get more ...</td>\n",
       "      <td>overview</td>\n",
       "    </tr>\n",
       "    <tr>\n",
       "      <th>4</th>\n",
       "      <td>Members</td>\n",
       "      <td>web</td>\n",
       "      <td>If we leave the search query empty, we would s...</td>\n",
       "      <td>analysis</td>\n",
       "    </tr>\n",
       "  </tbody>\n",
       "</table>\n",
       "</div>"
      ],
      "text/plain": [
       "   Writeup_name Category                                               Text  \\\n",
       "0  XMarkTheSpot      web  Visiting the website, we are presented with a ...   \n",
       "1  XMarkTheSpot      web  The idea is similar to SQL injection. \\nWe hav...   \n",
       "2  XMarkTheSpot      web  For example, let's inject:\\nThis should tell u...   \n",
       "3       Members      web  In the challenge members, we need to get more ...   \n",
       "4       Members      web  If we leave the search query empty, we would s...   \n",
       "\n",
       "              Label  \n",
       "0          overview  \n",
       "1          analysis  \n",
       "2  attack_execution  \n",
       "3          overview  \n",
       "4          analysis  "
      ]
     },
     "execution_count": 16,
     "metadata": {},
     "output_type": "execute_result"
    }
   ],
   "source": [
    "train = train[train['Text'].notna()]\n",
    "\n",
    "nRow, nCol = train.shape\n",
    "print(f'There are {nRow} rows and {nCol} columns in the training set after removing empty \"text\" columns')\n",
    "\n",
    "train.head()"
   ]
  },
  {
   "cell_type": "code",
   "execution_count": 17,
   "id": "661d1eec",
   "metadata": {},
   "outputs": [],
   "source": [
    "train.isnull().sum()\n",
    "\n",
    "train.to_csv(r'train_before_preproc.csv', index=False, header=True)"
   ]
  },
  {
   "cell_type": "markdown",
   "id": "1591610d",
   "metadata": {},
   "source": [
    "# Pre-Processing Steps:\n",
    "\n",
    "- Expand contractions\n",
    "- Noise cleaning\n",
    "- Remove stopwords"
   ]
  },
  {
   "cell_type": "code",
   "execution_count": 18,
   "id": "0d2cd536",
   "metadata": {},
   "outputs": [
    {
     "name": "stdout",
     "output_type": "stream",
     "text": [
      "Requirement already satisfied: contractions in /Users/marco/opt/anaconda3/lib/python3.9/site-packages (0.1.73)\n",
      "Requirement already satisfied: textsearch>=0.0.21 in /Users/marco/opt/anaconda3/lib/python3.9/site-packages (from contractions) (0.0.24)\n",
      "Requirement already satisfied: anyascii in /Users/marco/opt/anaconda3/lib/python3.9/site-packages (from textsearch>=0.0.21->contractions) (0.3.1)\n",
      "Requirement already satisfied: pyahocorasick in /Users/marco/opt/anaconda3/lib/python3.9/site-packages (from textsearch>=0.0.21->contractions) (1.4.4)\n"
     ]
    }
   ],
   "source": [
    "# Contraction Mapping\n",
    "\n",
    "!pip install contractions\n",
    "import contractions"
   ]
  },
  {
   "cell_type": "markdown",
   "id": "7b932882",
   "metadata": {},
   "source": [
    "## Expand Contractions"
   ]
  },
  {
   "cell_type": "code",
   "execution_count": 19,
   "id": "a218f7ac",
   "metadata": {},
   "outputs": [
    {
     "name": "stdout",
     "output_type": "stream",
     "text": [
      "There are 57 rows and 4 columns in the training set after removing /n\n"
     ]
    }
   ],
   "source": [
    "train = train[~train['Text'].str.contains(\"\\n\")]\n",
    "\n",
    "nRow, nCol = train.shape\n",
    "print(f'There are {nRow} rows and {nCol} columns in the training set after removing /n')\n",
    "\n",
    "train.head()\n",
    "\n",
    "train.to_csv(r'train_after_preproc.csv', index=False, header=True)"
   ]
  },
  {
   "cell_type": "code",
   "execution_count": 20,
   "id": "44770eef",
   "metadata": {},
   "outputs": [],
   "source": [
    "train['Text'] = train['Text'].apply(lambda x: [contractions.fix(word) for word in x.split(' ')])"
   ]
  },
  {
   "cell_type": "code",
   "execution_count": 21,
   "id": "5edfa7e4",
   "metadata": {},
   "outputs": [
    {
     "data": {
      "text/html": [
       "<div>\n",
       "<style scoped>\n",
       "    .dataframe tbody tr th:only-of-type {\n",
       "        vertical-align: middle;\n",
       "    }\n",
       "\n",
       "    .dataframe tbody tr th {\n",
       "        vertical-align: top;\n",
       "    }\n",
       "\n",
       "    .dataframe thead th {\n",
       "        text-align: right;\n",
       "    }\n",
       "</style>\n",
       "<table border=\"1\" class=\"dataframe\">\n",
       "  <thead>\n",
       "    <tr style=\"text-align: right;\">\n",
       "      <th></th>\n",
       "      <th>Writeup_name</th>\n",
       "      <th>Category</th>\n",
       "      <th>Text</th>\n",
       "      <th>Label</th>\n",
       "    </tr>\n",
       "  </thead>\n",
       "  <tbody>\n",
       "    <tr>\n",
       "      <th>4</th>\n",
       "      <td>Members</td>\n",
       "      <td>web</td>\n",
       "      <td>[If, we, leave, the, search, query, empty,, we...</td>\n",
       "      <td>analysis</td>\n",
       "    </tr>\n",
       "    <tr>\n",
       "      <th>9</th>\n",
       "      <td>High_Security</td>\n",
       "      <td>web</td>\n",
       "      <td>[We, have, again, a, login, page., This, time,...</td>\n",
       "      <td>overview</td>\n",
       "    </tr>\n",
       "    <tr>\n",
       "      <th>12</th>\n",
       "      <td>27_Forbidden_Paths</td>\n",
       "      <td>web</td>\n",
       "      <td>[This, website, has, the, useful, feature, of,...</td>\n",
       "      <td>overview</td>\n",
       "    </tr>\n",
       "    <tr>\n",
       "      <th>13</th>\n",
       "      <td>27_Forbidden_Paths</td>\n",
       "      <td>web</td>\n",
       "      <td>[With, file, paths,, a, preceeding, ./, means,...</td>\n",
       "      <td>analysis</td>\n",
       "    </tr>\n",
       "    <tr>\n",
       "      <th>14</th>\n",
       "      <td>27_Forbidden_Paths</td>\n",
       "      <td>web</td>\n",
       "      <td>[Since, we, know, that, we, are, in, /usr/shar...</td>\n",
       "      <td>attack_execution</td>\n",
       "    </tr>\n",
       "  </tbody>\n",
       "</table>\n",
       "</div>"
      ],
      "text/plain": [
       "          Writeup_name Category  \\\n",
       "4              Members      web   \n",
       "9        High_Security      web   \n",
       "12  27_Forbidden_Paths      web   \n",
       "13  27_Forbidden_Paths      web   \n",
       "14  27_Forbidden_Paths      web   \n",
       "\n",
       "                                                 Text             Label  \n",
       "4   [If, we, leave, the, search, query, empty,, we...          analysis  \n",
       "9   [We, have, again, a, login, page., This, time,...          overview  \n",
       "12  [This, website, has, the, useful, feature, of,...          overview  \n",
       "13  [With, file, paths,, a, preceeding, ./, means,...          analysis  \n",
       "14  [Since, we, know, that, we, are, in, /usr/shar...  attack_execution  "
      ]
     },
     "execution_count": 21,
     "metadata": {},
     "output_type": "execute_result"
    }
   ],
   "source": [
    "train.head()"
   ]
  },
  {
   "cell_type": "code",
   "execution_count": 22,
   "id": "670785c0",
   "metadata": {},
   "outputs": [],
   "source": [
    "#joining back the list of items into one string\n",
    "train['Text'] = [' '.join(map(str, l)) for l in train['Text']]"
   ]
  },
  {
   "cell_type": "code",
   "execution_count": 23,
   "id": "88a65872",
   "metadata": {},
   "outputs": [
    {
     "data": {
      "text/html": [
       "<div>\n",
       "<style scoped>\n",
       "    .dataframe tbody tr th:only-of-type {\n",
       "        vertical-align: middle;\n",
       "    }\n",
       "\n",
       "    .dataframe tbody tr th {\n",
       "        vertical-align: top;\n",
       "    }\n",
       "\n",
       "    .dataframe thead th {\n",
       "        text-align: right;\n",
       "    }\n",
       "</style>\n",
       "<table border=\"1\" class=\"dataframe\">\n",
       "  <thead>\n",
       "    <tr style=\"text-align: right;\">\n",
       "      <th></th>\n",
       "      <th>Writeup_name</th>\n",
       "      <th>Category</th>\n",
       "      <th>Text</th>\n",
       "      <th>Label</th>\n",
       "    </tr>\n",
       "  </thead>\n",
       "  <tbody>\n",
       "    <tr>\n",
       "      <th>4</th>\n",
       "      <td>Members</td>\n",
       "      <td>web</td>\n",
       "      <td>If we leave the search query empty, we would s...</td>\n",
       "      <td>analysis</td>\n",
       "    </tr>\n",
       "    <tr>\n",
       "      <th>9</th>\n",
       "      <td>High_Security</td>\n",
       "      <td>web</td>\n",
       "      <td>We have again a login page. This time only, we...</td>\n",
       "      <td>overview</td>\n",
       "    </tr>\n",
       "    <tr>\n",
       "      <th>12</th>\n",
       "      <td>27_Forbidden_Paths</td>\n",
       "      <td>web</td>\n",
       "      <td>This website has the useful feature of reading...</td>\n",
       "      <td>overview</td>\n",
       "    </tr>\n",
       "    <tr>\n",
       "      <th>13</th>\n",
       "      <td>27_Forbidden_Paths</td>\n",
       "      <td>web</td>\n",
       "      <td>With file paths, a preceeding ./ means the cur...</td>\n",
       "      <td>analysis</td>\n",
       "    </tr>\n",
       "    <tr>\n",
       "      <th>14</th>\n",
       "      <td>27_Forbidden_Paths</td>\n",
       "      <td>web</td>\n",
       "      <td>Since we know that we are in /usr/share/nginx/...</td>\n",
       "      <td>attack_execution</td>\n",
       "    </tr>\n",
       "  </tbody>\n",
       "</table>\n",
       "</div>"
      ],
      "text/plain": [
       "          Writeup_name Category  \\\n",
       "4              Members      web   \n",
       "9        High_Security      web   \n",
       "12  27_Forbidden_Paths      web   \n",
       "13  27_Forbidden_Paths      web   \n",
       "14  27_Forbidden_Paths      web   \n",
       "\n",
       "                                                 Text             Label  \n",
       "4   If we leave the search query empty, we would s...          analysis  \n",
       "9   We have again a login page. This time only, we...          overview  \n",
       "12  This website has the useful feature of reading...          overview  \n",
       "13  With file paths, a preceeding ./ means the cur...          analysis  \n",
       "14  Since we know that we are in /usr/share/nginx/...  attack_execution  "
      ]
     },
     "execution_count": 23,
     "metadata": {},
     "output_type": "execute_result"
    }
   ],
   "source": [
    "train.head()"
   ]
  },
  {
   "cell_type": "markdown",
   "id": "893715c9",
   "metadata": {},
   "source": [
    " ## Noise Cleaning"
   ]
  },
  {
   "cell_type": "code",
   "execution_count": 71,
   "id": "9961cd9f",
   "metadata": {},
   "outputs": [
    {
     "data": {
      "text/html": [
       "<div>\n",
       "<style scoped>\n",
       "    .dataframe tbody tr th:only-of-type {\n",
       "        vertical-align: middle;\n",
       "    }\n",
       "\n",
       "    .dataframe tbody tr th {\n",
       "        vertical-align: top;\n",
       "    }\n",
       "\n",
       "    .dataframe thead th {\n",
       "        text-align: right;\n",
       "    }\n",
       "</style>\n",
       "<table border=\"1\" class=\"dataframe\">\n",
       "  <thead>\n",
       "    <tr style=\"text-align: right;\">\n",
       "      <th></th>\n",
       "      <th>Writeup_name</th>\n",
       "      <th>Category</th>\n",
       "      <th>Text</th>\n",
       "      <th>Label</th>\n",
       "    </tr>\n",
       "  </thead>\n",
       "  <tbody>\n",
       "    <tr>\n",
       "      <th>4</th>\n",
       "      <td>Members</td>\n",
       "      <td>web</td>\n",
       "      <td>if we leave the search query empty we would se...</td>\n",
       "      <td>analysis</td>\n",
       "    </tr>\n",
       "    <tr>\n",
       "      <th>9</th>\n",
       "      <td>High_Security</td>\n",
       "      <td>web</td>\n",
       "      <td>we have again a login page this time only we c...</td>\n",
       "      <td>overview</td>\n",
       "    </tr>\n",
       "    <tr>\n",
       "      <th>12</th>\n",
       "      <td>27_Forbidden_Paths</td>\n",
       "      <td>web</td>\n",
       "      <td>this website has the useful feature of reading...</td>\n",
       "      <td>overview</td>\n",
       "    </tr>\n",
       "    <tr>\n",
       "      <th>13</th>\n",
       "      <td>27_Forbidden_Paths</td>\n",
       "      <td>web</td>\n",
       "      <td>with file paths a preceeding  means the curren...</td>\n",
       "      <td>analysis</td>\n",
       "    </tr>\n",
       "    <tr>\n",
       "      <th>14</th>\n",
       "      <td>27_Forbidden_Paths</td>\n",
       "      <td>web</td>\n",
       "      <td>since we know that we are in usrsharenginxhtml...</td>\n",
       "      <td>attack_execution</td>\n",
       "    </tr>\n",
       "  </tbody>\n",
       "</table>\n",
       "</div>"
      ],
      "text/plain": [
       "          Writeup_name Category  \\\n",
       "4              Members      web   \n",
       "9        High_Security      web   \n",
       "12  27_Forbidden_Paths      web   \n",
       "13  27_Forbidden_Paths      web   \n",
       "14  27_Forbidden_Paths      web   \n",
       "\n",
       "                                                 Text             Label  \n",
       "4   if we leave the search query empty we would se...          analysis  \n",
       "9   we have again a login page this time only we c...          overview  \n",
       "12  this website has the useful feature of reading...          overview  \n",
       "13  with file paths a preceeding  means the curren...          analysis  \n",
       "14  since we know that we are in usrsharenginxhtml...  attack_execution  "
      ]
     },
     "execution_count": 71,
     "metadata": {},
     "output_type": "execute_result"
    }
   ],
   "source": [
    "# Noise Cleaning - spacing, special characters, lowercasing \n",
    "import regex as re\n",
    "\n",
    "train['Text'] = train['Text'].str.lower()\n",
    "train['Text'] = train['Text'].apply(lambda x: re.sub(r'[^\\w\\d\\s\\']+', '', x))\n",
    "\n",
    "train.head()"
   ]
  },
  {
   "cell_type": "code",
   "execution_count": 72,
   "id": "9ac35423",
   "metadata": {},
   "outputs": [
    {
     "data": {
      "text/html": [
       "<div>\n",
       "<style scoped>\n",
       "    .dataframe tbody tr th:only-of-type {\n",
       "        vertical-align: middle;\n",
       "    }\n",
       "\n",
       "    .dataframe tbody tr th {\n",
       "        vertical-align: top;\n",
       "    }\n",
       "\n",
       "    .dataframe thead th {\n",
       "        text-align: right;\n",
       "    }\n",
       "</style>\n",
       "<table border=\"1\" class=\"dataframe\">\n",
       "  <thead>\n",
       "    <tr style=\"text-align: right;\">\n",
       "      <th></th>\n",
       "      <th>Writeup_name</th>\n",
       "      <th>Category</th>\n",
       "      <th>Text</th>\n",
       "      <th>Label</th>\n",
       "      <th>Text_tokenize</th>\n",
       "    </tr>\n",
       "  </thead>\n",
       "  <tbody>\n",
       "    <tr>\n",
       "      <th>4</th>\n",
       "      <td>Members</td>\n",
       "      <td>web</td>\n",
       "      <td>if we leave the search query empty we would se...</td>\n",
       "      <td>analysis</td>\n",
       "      <td>[if, we, leave, the, search, query, empty, we,...</td>\n",
       "    </tr>\n",
       "    <tr>\n",
       "      <th>9</th>\n",
       "      <td>High_Security</td>\n",
       "      <td>web</td>\n",
       "      <td>we have again a login page this time only we c...</td>\n",
       "      <td>overview</td>\n",
       "      <td>[we, have, again, a, login, page, this, time, ...</td>\n",
       "    </tr>\n",
       "    <tr>\n",
       "      <th>12</th>\n",
       "      <td>27_Forbidden_Paths</td>\n",
       "      <td>web</td>\n",
       "      <td>this website has the useful feature of reading...</td>\n",
       "      <td>overview</td>\n",
       "      <td>[this, website, has, the, useful, feature, of,...</td>\n",
       "    </tr>\n",
       "    <tr>\n",
       "      <th>13</th>\n",
       "      <td>27_Forbidden_Paths</td>\n",
       "      <td>web</td>\n",
       "      <td>with file paths a preceeding  means the curren...</td>\n",
       "      <td>analysis</td>\n",
       "      <td>[with, file, paths, a, preceeding, means, the,...</td>\n",
       "    </tr>\n",
       "    <tr>\n",
       "      <th>14</th>\n",
       "      <td>27_Forbidden_Paths</td>\n",
       "      <td>web</td>\n",
       "      <td>since we know that we are in usrsharenginxhtml...</td>\n",
       "      <td>attack_execution</td>\n",
       "      <td>[since, we, know, that, we, are, in, usrsharen...</td>\n",
       "    </tr>\n",
       "  </tbody>\n",
       "</table>\n",
       "</div>"
      ],
      "text/plain": [
       "          Writeup_name Category  \\\n",
       "4              Members      web   \n",
       "9        High_Security      web   \n",
       "12  27_Forbidden_Paths      web   \n",
       "13  27_Forbidden_Paths      web   \n",
       "14  27_Forbidden_Paths      web   \n",
       "\n",
       "                                                 Text             Label  \\\n",
       "4   if we leave the search query empty we would se...          analysis   \n",
       "9   we have again a login page this time only we c...          overview   \n",
       "12  this website has the useful feature of reading...          overview   \n",
       "13  with file paths a preceeding  means the curren...          analysis   \n",
       "14  since we know that we are in usrsharenginxhtml...  attack_execution   \n",
       "\n",
       "                                        Text_tokenize  \n",
       "4   [if, we, leave, the, search, query, empty, we,...  \n",
       "9   [we, have, again, a, login, page, this, time, ...  \n",
       "12  [this, website, has, the, useful, feature, of,...  \n",
       "13  [with, file, paths, a, preceeding, means, the,...  \n",
       "14  [since, we, know, that, we, are, in, usrsharen...  "
      ]
     },
     "execution_count": 72,
     "metadata": {},
     "output_type": "execute_result"
    }
   ],
   "source": [
    "#nltk tokenization\n",
    "\n",
    "train['Text_tokenize'] = train['Text'].apply(word_tokenize)\n",
    "\n",
    "train.head()"
   ]
  },
  {
   "cell_type": "code",
   "execution_count": 73,
   "id": "602fd1a7",
   "metadata": {},
   "outputs": [
    {
     "name": "stderr",
     "output_type": "stream",
     "text": [
      "[nltk_data] Downloading package stopwords to /Users/marco/nltk_data...\n",
      "[nltk_data]   Package stopwords is already up-to-date!\n"
     ]
    }
   ],
   "source": [
    "# initializing Stop words libraries\n",
    "\n",
    "nltk.download('stopwords')\n",
    "from nltk.corpus import stopwords\n",
    "stop_words = set(stopwords.words('english'))"
   ]
  },
  {
   "cell_type": "code",
   "execution_count": 74,
   "id": "3a7fa91f",
   "metadata": {},
   "outputs": [],
   "source": [
    "# Before removing checking occurances of stopwords in article content\n",
    "\n",
    "%matplotlib inline\n",
    "from matplotlib import pyplot as plt\n",
    "\n",
    "def plot_top_stopwords_barchart(text):\n",
    "    stop=set(stopwords.words('english'))\n",
    "    \n",
    "    new= text.str.split()\n",
    "    new=new.values.tolist()\n",
    "    corpus=[word for i in new for word in i]\n",
    "    from collections import defaultdict\n",
    "    dic=defaultdict(int)\n",
    "    for word in corpus:\n",
    "        if word in stop:\n",
    "            dic[word]+=1\n",
    "            \n",
    "    top=sorted(dic.items(), key=lambda x:x[1],reverse=True)[:10]\n",
    "    x,y=zip(*top)\n",
    "    plt.figure(figsize=(10,10))\n",
    "    plt.bar(x,y)"
   ]
  },
  {
   "cell_type": "code",
   "execution_count": 75,
   "id": "cc0fd9b0",
   "metadata": {},
   "outputs": [
    {
     "data": {
      "image/png": "[encoded data removed]",
      "text/plain": [
       "<Figure size 720x720 with 1 Axes>"
      ]
     },
     "metadata": {
      "needs_background": "light"
     },
     "output_type": "display_data"
    }
   ],
   "source": [
    "plot_top_stopwords_barchart(train['Text'])\n",
    "\n",
    "train.to_csv(r'train_after_noise.csv', index=False, header=True)"
   ]
  },
  {
   "cell_type": "code",
   "execution_count": 76,
   "id": "da6d027b",
   "metadata": {},
   "outputs": [],
   "source": [
    "import seaborn as sns\n",
    "from collections import  Counter\n",
    "\n",
    "def plot_top_non_stopwords_barchart(text):\n",
    "    stop=set(stopwords.words('english'))\n",
    "    \n",
    "    new= text.str.split()\n",
    "    new=new.values.tolist()\n",
    "    corpus=[word for i in new for word in i]\n",
    "\n",
    "    counter=Counter(corpus)\n",
    "    most=counter.most_common()\n",
    "    x, y=[], []\n",
    "    for word,count in most[:50]:\n",
    "        if (word not in stop):\n",
    "            x.append(word)\n",
    "            y.append(count)\n",
    "    plt.figure(figsize=(10,10))\n",
    "    sns.barplot(x=y,y=x)"
   ]
  },
  {
   "cell_type": "code",
   "execution_count": 77,
   "id": "3ba89b0d",
   "metadata": {},
   "outputs": [
    {
     "data": {
      "image/png": "[encoded data removed]",
      "text/plain": [
       "<Figure size 720x720 with 1 Axes>"
      ]
     },
     "metadata": {
      "needs_background": "light"
     },
     "output_type": "display_data"
    }
   ],
   "source": [
    "plot_top_non_stopwords_barchart(train['Text'])"
   ]
  },
  {
   "cell_type": "markdown",
   "id": "0713ea47",
   "metadata": {},
   "source": [
    "## Remove Stopwords"
   ]
  },
  {
   "cell_type": "code",
   "execution_count": 78,
   "id": "e9baedd9",
   "metadata": {},
   "outputs": [
    {
     "data": {
      "text/html": [
       "<div>\n",
       "<style scoped>\n",
       "    .dataframe tbody tr th:only-of-type {\n",
       "        vertical-align: middle;\n",
       "    }\n",
       "\n",
       "    .dataframe tbody tr th {\n",
       "        vertical-align: top;\n",
       "    }\n",
       "\n",
       "    .dataframe thead th {\n",
       "        text-align: right;\n",
       "    }\n",
       "</style>\n",
       "<table border=\"1\" class=\"dataframe\">\n",
       "  <thead>\n",
       "    <tr style=\"text-align: right;\">\n",
       "      <th></th>\n",
       "      <th>Writeup_name</th>\n",
       "      <th>Category</th>\n",
       "      <th>Text</th>\n",
       "      <th>Label</th>\n",
       "      <th>Text_tokenize</th>\n",
       "      <th>Text_tokenize_join</th>\n",
       "    </tr>\n",
       "  </thead>\n",
       "  <tbody>\n",
       "    <tr>\n",
       "      <th>4</th>\n",
       "      <td>Members</td>\n",
       "      <td>web</td>\n",
       "      <td>if we leave the search query empty we would se...</td>\n",
       "      <td>analysis</td>\n",
       "      <td>[leave, search, query, empty, would, see, memb...</td>\n",
       "      <td>leave search query empty would see members els...</td>\n",
       "    </tr>\n",
       "    <tr>\n",
       "      <th>9</th>\n",
       "      <td>High_Security</td>\n",
       "      <td>web</td>\n",
       "      <td>we have again a login page this time only we c...</td>\n",
       "      <td>overview</td>\n",
       "      <td>[login, page, time, register, user]</td>\n",
       "      <td>login page time register user</td>\n",
       "    </tr>\n",
       "    <tr>\n",
       "      <th>12</th>\n",
       "      <td>27_Forbidden_Paths</td>\n",
       "      <td>web</td>\n",
       "      <td>this website has the useful feature of reading...</td>\n",
       "      <td>overview</td>\n",
       "      <td>[website, useful, feature, reading, file, want...</td>\n",
       "      <td>website useful feature reading file want given...</td>\n",
       "    </tr>\n",
       "    <tr>\n",
       "      <th>13</th>\n",
       "      <td>27_Forbidden_Paths</td>\n",
       "      <td>web</td>\n",
       "      <td>with file paths a preceeding  means the curren...</td>\n",
       "      <td>analysis</td>\n",
       "      <td>[file, paths, preceeding, means, current, dire...</td>\n",
       "      <td>file paths preceeding means current directory ...</td>\n",
       "    </tr>\n",
       "    <tr>\n",
       "      <th>14</th>\n",
       "      <td>27_Forbidden_Paths</td>\n",
       "      <td>web</td>\n",
       "      <td>since we know that we are in usrsharenginxhtml...</td>\n",
       "      <td>attack_execution</td>\n",
       "      <td>[since, know, usrsharenginxhtml, want, access,...</td>\n",
       "      <td>since know usrsharenginxhtml want access flagt...</td>\n",
       "    </tr>\n",
       "  </tbody>\n",
       "</table>\n",
       "</div>"
      ],
      "text/plain": [
       "          Writeup_name Category  \\\n",
       "4              Members      web   \n",
       "9        High_Security      web   \n",
       "12  27_Forbidden_Paths      web   \n",
       "13  27_Forbidden_Paths      web   \n",
       "14  27_Forbidden_Paths      web   \n",
       "\n",
       "                                                 Text             Label  \\\n",
       "4   if we leave the search query empty we would se...          analysis   \n",
       "9   we have again a login page this time only we c...          overview   \n",
       "12  this website has the useful feature of reading...          overview   \n",
       "13  with file paths a preceeding  means the curren...          analysis   \n",
       "14  since we know that we are in usrsharenginxhtml...  attack_execution   \n",
       "\n",
       "                                        Text_tokenize  \\\n",
       "4   [leave, search, query, empty, would, see, memb...   \n",
       "9                 [login, page, time, register, user]   \n",
       "12  [website, useful, feature, reading, file, want...   \n",
       "13  [file, paths, preceeding, means, current, dire...   \n",
       "14  [since, know, usrsharenginxhtml, want, access,...   \n",
       "\n",
       "                                   Text_tokenize_join  \n",
       "4   leave search query empty would see members els...  \n",
       "9                       login page time register user  \n",
       "12  website useful feature reading file want given...  \n",
       "13  file paths preceeding means current directory ...  \n",
       "14  since know usrsharenginxhtml want access flagt...  "
      ]
     },
     "execution_count": 78,
     "metadata": {},
     "output_type": "execute_result"
    }
   ],
   "source": [
    "# Now we remove stopwords \n",
    "\n",
    "train['Text_tokenize'] = train['Text_tokenize'].apply(lambda x: [word for word in x if word not in stop_words])\n",
    "train['Text_tokenize_join'] = [' '.join(map(str, l)) for l in train['Text_tokenize']]\n",
    "\n",
    "train.head()"
   ]
  },
  {
   "cell_type": "code",
   "execution_count": 79,
   "id": "55456d23",
   "metadata": {},
   "outputs": [],
   "source": [
    "# Let's evaluate the POS tags for our train set data\n",
    "tagged_stanzas_train = []\n",
    "tagged_train = []\n",
    "\n",
    "for word in train['Text_tokenize']:\n",
    "  tagged_word = nltk.pos_tag(word)\n",
    "  tagged_stanzas_train.append(tagged_word)\n",
    "\n",
    "# This format is needed for below visualizer as in takes only two values. If you skip this format, it might give you - \"too many values to unpack error\" \n",
    "tagged_train.append(tagged_stanzas_train)"
   ]
  },
  {
   "cell_type": "markdown",
   "id": "6a02661f",
   "metadata": {},
   "source": [
    "## Yellow Brick: POS Visualizer"
   ]
  },
  {
   "cell_type": "code",
   "execution_count": 80,
   "id": "23c78bc5",
   "metadata": {},
   "outputs": [
    {
     "name": "stdout",
     "output_type": "stream",
     "text": [
      "Requirement already satisfied: yellowbrick in /Users/marco/opt/anaconda3/lib/python3.9/site-packages (1.5)\n",
      "Requirement already satisfied: matplotlib!=3.0.0,>=2.0.2 in /Users/marco/opt/anaconda3/lib/python3.9/site-packages (from yellowbrick) (3.5.1)\n",
      "Requirement already satisfied: cycler>=0.10.0 in /Users/marco/opt/anaconda3/lib/python3.9/site-packages (from yellowbrick) (0.11.0)\n",
      "Requirement already satisfied: numpy>=1.16.0 in /Users/marco/opt/anaconda3/lib/python3.9/site-packages (from yellowbrick) (1.21.5)\n",
      "Requirement already satisfied: scikit-learn>=1.0.0 in /Users/marco/opt/anaconda3/lib/python3.9/site-packages (from yellowbrick) (1.0.2)\n",
      "Requirement already satisfied: scipy>=1.0.0 in /Users/marco/opt/anaconda3/lib/python3.9/site-packages (from yellowbrick) (1.7.3)\n",
      "Requirement already satisfied: python-dateutil>=2.7 in /Users/marco/opt/anaconda3/lib/python3.9/site-packages (from matplotlib!=3.0.0,>=2.0.2->yellowbrick) (2.8.2)\n",
      "Requirement already satisfied: packaging>=20.0 in /Users/marco/opt/anaconda3/lib/python3.9/site-packages (from matplotlib!=3.0.0,>=2.0.2->yellowbrick) (21.3)\n",
      "Requirement already satisfied: fonttools>=4.22.0 in /Users/marco/opt/anaconda3/lib/python3.9/site-packages (from matplotlib!=3.0.0,>=2.0.2->yellowbrick) (4.25.0)\n",
      "Requirement already satisfied: pillow>=6.2.0 in /Users/marco/opt/anaconda3/lib/python3.9/site-packages (from matplotlib!=3.0.0,>=2.0.2->yellowbrick) (9.0.1)\n",
      "Requirement already satisfied: kiwisolver>=1.0.1 in /Users/marco/opt/anaconda3/lib/python3.9/site-packages (from matplotlib!=3.0.0,>=2.0.2->yellowbrick) (1.3.2)\n",
      "Requirement already satisfied: pyparsing>=2.2.1 in /Users/marco/opt/anaconda3/lib/python3.9/site-packages (from matplotlib!=3.0.0,>=2.0.2->yellowbrick) (3.0.4)\n",
      "Requirement already satisfied: six>=1.5 in /Users/marco/opt/anaconda3/lib/python3.9/site-packages (from python-dateutil>=2.7->matplotlib!=3.0.0,>=2.0.2->yellowbrick) (1.16.0)\n",
      "Requirement already satisfied: joblib>=0.11 in /Users/marco/opt/anaconda3/lib/python3.9/site-packages (from scikit-learn>=1.0.0->yellowbrick) (1.1.0)\n",
      "Requirement already satisfied: threadpoolctl>=2.0.0 in /Users/marco/opt/anaconda3/lib/python3.9/site-packages (from scikit-learn>=1.0.0->yellowbrick) (2.2.0)\n"
     ]
    }
   ],
   "source": [
    "# Yellow Brick is a POS visualizer - https://github.com/DistrictDataLabs/yellowbrick/blob/master/docs/api/text/postag.rst\n",
    "# You may need to reload the workbook to activate it. In that case, re-run all cells again from the beginning \n",
    "\n",
    "!pip install -U yellowbrick"
   ]
  },
  {
   "cell_type": "code",
   "execution_count": 81,
   "id": "6aa57aff",
   "metadata": {},
   "outputs": [
    {
     "data": {
      "image/png": "[encoded data removed]",
      "text/plain": [
       "<Figure size 1080x1080 with 1 Axes>"
      ]
     },
     "metadata": {
      "needs_background": "light"
     },
     "output_type": "display_data"
    },
    {
     "data": {
      "text/plain": [
       "<AxesSubplot:title={'center':'PosTag plot for 706-token corpus'}, xlabel='Penn Treebank part-of-speech tags', ylabel='Count'>"
      ]
     },
     "execution_count": 81,
     "metadata": {},
     "output_type": "execute_result"
    }
   ],
   "source": [
    "# Create the visualizer for train test\n",
    "\n",
    "from yellowbrick.text import PosTagVisualizer\n",
    "plt.figure(figsize=(15,15))\n",
    "viz = PosTagVisualizer()\n",
    "viz.fit(tagged_train)\n",
    "viz.show()"
   ]
  },
  {
   "cell_type": "markdown",
   "id": "1bf7156d",
   "metadata": {},
   "source": [
    "# Text Classification Methodology"
   ]
  },
  {
   "cell_type": "code",
   "execution_count": 82,
   "id": "6fa93293",
   "metadata": {},
   "outputs": [
    {
     "data": {
      "text/plain": [
       "overview            29\n",
       "attack_execution    20\n",
       "analysis             8\n",
       "Name: Label, dtype: int64"
      ]
     },
     "execution_count": 82,
     "metadata": {},
     "output_type": "execute_result"
    }
   ],
   "source": [
    "# Now let's check if number of examples for fake vs not-fake label is equal or not. Seems like in this case it's very balanced. \n",
    "\n",
    "train[\"Label\"].value_counts()"
   ]
  },
  {
   "cell_type": "code",
   "execution_count": 83,
   "id": "2cd59cc9",
   "metadata": {},
   "outputs": [
    {
     "data": {
      "text/plain": [
       "<AxesSubplot:xlabel='Label', ylabel='count'>"
      ]
     },
     "execution_count": 83,
     "metadata": {},
     "output_type": "execute_result"
    },
    {
     "data": {
      "image/png": "[encoded data removed]",
      "text/plain": [
       "<Figure size 720x576 with 1 Axes>"
      ]
     },
     "metadata": {
      "needs_background": "light"
     },
     "output_type": "display_data"
    }
   ],
   "source": [
    "# we see there is an equal number of distribution of target features\n",
    "\n",
    "rcParams[\"figure.figsize\"] = 10,8\n",
    "sns.countplot(x = train[\"Label\"])"
   ]
  },
  {
   "cell_type": "code",
   "execution_count": 84,
   "id": "7ee29fa9",
   "metadata": {},
   "outputs": [
    {
     "data": {
      "text/html": [
       "<div>\n",
       "<style scoped>\n",
       "    .dataframe tbody tr th:only-of-type {\n",
       "        vertical-align: middle;\n",
       "    }\n",
       "\n",
       "    .dataframe tbody tr th {\n",
       "        vertical-align: top;\n",
       "    }\n",
       "\n",
       "    .dataframe thead th {\n",
       "        text-align: right;\n",
       "    }\n",
       "</style>\n",
       "<table border=\"1\" class=\"dataframe\">\n",
       "  <thead>\n",
       "    <tr style=\"text-align: right;\">\n",
       "      <th></th>\n",
       "      <th>Writeup_name</th>\n",
       "      <th>Category</th>\n",
       "      <th>Text</th>\n",
       "      <th>Text_tokenize</th>\n",
       "      <th>Text_tokenize_join</th>\n",
       "    </tr>\n",
       "  </thead>\n",
       "  <tbody>\n",
       "    <tr>\n",
       "      <th>4</th>\n",
       "      <td>Members</td>\n",
       "      <td>web</td>\n",
       "      <td>if we leave the search query empty we would se...</td>\n",
       "      <td>[leave, search, query, empty, would, see, memb...</td>\n",
       "      <td>leave search query empty would see members els...</td>\n",
       "    </tr>\n",
       "    <tr>\n",
       "      <th>9</th>\n",
       "      <td>High_Security</td>\n",
       "      <td>web</td>\n",
       "      <td>we have again a login page this time only we c...</td>\n",
       "      <td>[login, page, time, register, user]</td>\n",
       "      <td>login page time register user</td>\n",
       "    </tr>\n",
       "    <tr>\n",
       "      <th>12</th>\n",
       "      <td>27_Forbidden_Paths</td>\n",
       "      <td>web</td>\n",
       "      <td>this website has the useful feature of reading...</td>\n",
       "      <td>[website, useful, feature, reading, file, want...</td>\n",
       "      <td>website useful feature reading file want given...</td>\n",
       "    </tr>\n",
       "    <tr>\n",
       "      <th>13</th>\n",
       "      <td>27_Forbidden_Paths</td>\n",
       "      <td>web</td>\n",
       "      <td>with file paths a preceeding  means the curren...</td>\n",
       "      <td>[file, paths, preceeding, means, current, dire...</td>\n",
       "      <td>file paths preceeding means current directory ...</td>\n",
       "    </tr>\n",
       "    <tr>\n",
       "      <th>14</th>\n",
       "      <td>27_Forbidden_Paths</td>\n",
       "      <td>web</td>\n",
       "      <td>since we know that we are in usrsharenginxhtml...</td>\n",
       "      <td>[since, know, usrsharenginxhtml, want, access,...</td>\n",
       "      <td>since know usrsharenginxhtml want access flagt...</td>\n",
       "    </tr>\n",
       "  </tbody>\n",
       "</table>\n",
       "</div>"
      ],
      "text/plain": [
       "          Writeup_name Category  \\\n",
       "4              Members      web   \n",
       "9        High_Security      web   \n",
       "12  27_Forbidden_Paths      web   \n",
       "13  27_Forbidden_Paths      web   \n",
       "14  27_Forbidden_Paths      web   \n",
       "\n",
       "                                                 Text  \\\n",
       "4   if we leave the search query empty we would se...   \n",
       "9   we have again a login page this time only we c...   \n",
       "12  this website has the useful feature of reading...   \n",
       "13  with file paths a preceeding  means the curren...   \n",
       "14  since we know that we are in usrsharenginxhtml...   \n",
       "\n",
       "                                        Text_tokenize  \\\n",
       "4   [leave, search, query, empty, would, see, memb...   \n",
       "9                 [login, page, time, register, user]   \n",
       "12  [website, useful, feature, reading, file, want...   \n",
       "13  [file, paths, preceeding, means, current, dire...   \n",
       "14  [since, know, usrsharenginxhtml, want, access,...   \n",
       "\n",
       "                                   Text_tokenize_join  \n",
       "4   leave search query empty would see members els...  \n",
       "9                       login page time register user  \n",
       "12  website useful feature reading file want given...  \n",
       "13  file paths preceeding means current directory ...  \n",
       "14  since know usrsharenginxhtml want access flagt...  "
      ]
     },
     "execution_count": 84,
     "metadata": {},
     "output_type": "execute_result"
    }
   ],
   "source": [
    "# lets extract the label column from train dataframe to be the target 'y' variable\n",
    "targets = train['Label'].values\n",
    "\n",
    "# Drop the 'label' column from train dataset\n",
    "train.drop(\"Label\", axis=1, inplace = True)\n",
    "train.head()"
   ]
  },
  {
   "cell_type": "code",
   "execution_count": 85,
   "id": "5e524c1c",
   "metadata": {},
   "outputs": [],
   "source": [
    "transformer = TfidfTransformer(smooth_idf=False)\n",
    "count_vectorizer = CountVectorizer(ngram_range=(1, 2))"
   ]
  },
  {
   "cell_type": "code",
   "execution_count": 86,
   "id": "836aa8b3",
   "metadata": {},
   "outputs": [],
   "source": [
    "# fit train data to the count vectorizer\n",
    "train_counts = count_vectorizer.fit_transform(train['Text'].values)\n",
    "\n",
    "#fit the ngrams count to the tfidf transformers\n",
    "train_tfidf = transformer.fit_transform(train_counts)"
   ]
  },
  {
   "cell_type": "code",
   "execution_count": 87,
   "id": "5f80cf15",
   "metadata": {},
   "outputs": [],
   "source": [
    "from sklearn.model_selection import train_test_split\n",
    "\n",
    "#  If train-test size is not initialized, test_size will be set to 0.25 and train_set = 1-test_size\n",
    "\n",
    "X_train, X_test, y_train, y_test = train_test_split(train_tfidf, targets, random_state=0)\n"
   ]
  },
  {
   "cell_type": "code",
   "execution_count": 88,
   "id": "fb6eace7",
   "metadata": {},
   "outputs": [
    {
     "name": "stdout",
     "output_type": "stream",
     "text": [
      "Accuracy of ExtraTrees classifier on train set: 1.00\n",
      "Accuracy of ExtraTrees classifier on test set: 0.53\n"
     ]
    }
   ],
   "source": [
    "Extr = ExtraTreesClassifier(n_estimators=5,n_jobs=4)\n",
    "Extr.fit(X_train, y_train)\n",
    "\n",
    "print('Accuracy of ExtraTrees classifier on train set: {:.2f}'.format(Extr.score(X_train, y_train)))\n",
    "\n",
    "print('Accuracy of ExtraTrees classifier on test set: {:.2f}'.format(Extr.score(X_test, y_test)))"
   ]
  },
  {
   "cell_type": "code",
   "execution_count": 89,
   "id": "ca674726",
   "metadata": {},
   "outputs": [
    {
     "name": "stdout",
     "output_type": "stream",
     "text": [
      "Accuracy of Adaboost classifier on training set: 1.00\n",
      "Accuracy of Adaboost classifier on test set: 0.53\n"
     ]
    }
   ],
   "source": [
    "Adab= AdaBoostClassifier(DecisionTreeClassifier(max_depth=3),n_estimators=5)\n",
    "Adab.fit(X_train, y_train)\n",
    "\n",
    "print('Accuracy of Adaboost classifier on training set: {:.2f}'.format(Adab.score(X_train, y_train)))\n",
    "\n",
    "print('Accuracy of Adaboost classifier on test set: {:.2f}'.format(Adab.score(X_test, y_test)))"
   ]
  },
  {
   "cell_type": "code",
   "execution_count": 90,
   "id": "efcc922d",
   "metadata": {},
   "outputs": [
    {
     "name": "stdout",
     "output_type": "stream",
     "text": [
      "Accuracy of randomforest classifier on training set: 1.00\n",
      "Accuracy of randomforest classifier on test set: 0.60\n"
     ]
    }
   ],
   "source": [
    "RandomFC= RandomForestClassifier(n_estimators=5)\n",
    "RandomFC.fit(X_train, y_train)\n",
    "\n",
    "print('Accuracy of randomforest classifier on training set: {:.2f}'.format(RandomFC.score(X_train, y_train)))\n",
    "\n",
    "print('Accuracy of randomforest classifier on test set: {:.2f}'.format(RandomFC.score(X_test, y_test)))"
   ]
  },
  {
   "cell_type": "code",
   "execution_count": 91,
   "id": "aefc1a24",
   "metadata": {},
   "outputs": [
    {
     "name": "stdout",
     "output_type": "stream",
     "text": [
      "Accuracy of NB  classifier on training set: 0.83\n",
      "Accuracy of NB classifier on test set: 0.47\n"
     ]
    }
   ],
   "source": [
    "from sklearn.naive_bayes import MultinomialNB\n",
    "\n",
    "NB = MultinomialNB()\n",
    "NB.fit(X_train, y_train)\n",
    "\n",
    "print('Accuracy of NB  classifier on training set: {:.2f}'.format(NB.score(X_train, y_train)))\n",
    "\n",
    "print('Accuracy of NB classifier on test set: {:.2f}'.format(NB.score(X_test, y_test)))"
   ]
  },
  {
   "cell_type": "code",
   "execution_count": 93,
   "id": "19c0a4e3",
   "metadata": {},
   "outputs": [
    {
     "name": "stdout",
     "output_type": "stream",
     "text": [
      "Accuracy of Logreg classifier on training set: 1.00\n",
      "Accuracy of Logreg classifier on test set: 0.67\n"
     ]
    }
   ],
   "source": [
    "from sklearn.linear_model import LogisticRegression\n",
    "\n",
    "logreg = LogisticRegression(C=1e5)\n",
    "logreg.fit(X_train, y_train)\n",
    "\n",
    "print('Accuracy of Logreg classifier on training set: {:.2f}'.format(logreg.score(X_train, y_train)))\n",
    "\n",
    "print('Accuracy of Logreg classifier on test set: {:.2f}'.format(logreg.score(X_test, y_test)))"
   ]
  },
  {
   "cell_type": "markdown",
   "id": "95511999",
   "metadata": {},
   "source": [
    "## Measuring Model Performance"
   ]
  },
  {
   "cell_type": "code",
   "execution_count": 94,
   "id": "620a27fc",
   "metadata": {},
   "outputs": [
    {
     "name": "stdout",
     "output_type": "stream",
     "text": [
      "0.6666666666666666\n"
     ]
    }
   ],
   "source": [
    "# Use score method to get accuracy of model\n",
    "score = logreg.score(X_test, y_test)\n",
    "print(score)"
   ]
  },
  {
   "cell_type": "code",
   "execution_count": 95,
   "id": "48a23795",
   "metadata": {},
   "outputs": [
    {
     "name": "stdout",
     "output_type": "stream",
     "text": [
      "Accuracy: 66.67%\n"
     ]
    }
   ],
   "source": [
    "# Predict and calculate accuracy\n",
    "from sklearn.metrics import accuracy_score\n",
    "\n",
    "predictions = logreg.predict(X_test)\n",
    "score=accuracy_score(y_test,predictions)\n",
    "print(f'Accuracy: {round(score*100,2)}%')"
   ]
  },
  {
   "cell_type": "code",
   "execution_count": 96,
   "id": "5c757e3a",
   "metadata": {},
   "outputs": [
    {
     "name": "stdout",
     "output_type": "stream",
     "text": [
      "[[3 5]\n",
      " [0 7]]\n"
     ]
    }
   ],
   "source": [
    "from sklearn import metrics\n",
    "\n",
    "CM = metrics.confusion_matrix(y_test, predictions)\n",
    "print(CM)"
   ]
  },
  {
   "cell_type": "code",
   "execution_count": 97,
   "id": "ad469da6",
   "metadata": {},
   "outputs": [
    {
     "data": {
      "image/png": "[encoded data removed]",
      "text/plain": [
       "<Figure size 648x648 with 2 Axes>"
      ]
     },
     "metadata": {
      "needs_background": "light"
     },
     "output_type": "display_data"
    }
   ],
   "source": [
    "plt.figure(figsize=(9,9))\n",
    "sns.heatmap(CM, annot=True, fmt=\".3f\", linewidths=.5, square = True, cmap = 'Blues_r');\n",
    "plt.ylabel('Actual label');\n",
    "plt.xlabel('Predicted label');\n",
    "all_sample_title = 'Accuracy Score: {0}'.format(score)\n",
    "plt.title(all_sample_title, size = 15);"
   ]
  },
  {
   "cell_type": "markdown",
   "id": "9736f722",
   "metadata": {},
   "source": [
    "### From the confusion matrix we can make the following conclusions:\n",
    "\n",
    "- Our model successfully predicted 3 positives\n",
    "- Our model successfully predicted 7 negatives.\n",
    "- Our model predicted 5 false positives\n",
    "- Our model predicted 0 false negatives\n"
   ]
  },
  {
   "cell_type": "code",
   "execution_count": null,
   "id": "2ff21b20",
   "metadata": {},
   "outputs": [],
   "source": []
  }
 ],
 "metadata": {
  "kernelspec": {
   "display_name": "Python 3 (ipykernel)",
   "language": "python",
   "name": "python3"
  },
  "language_info": {
   "codemirror_mode": {
    "name": "ipython",
    "version": 3
   },
   "file_extension": ".py",
   "mimetype": "text/x-python",
   "name": "python",
   "nbconvert_exporter": "python",
   "pygments_lexer": "ipython3",
   "version": "3.9.12"
  }
 },
 "nbformat": 4,
 "nbformat_minor": 5
}
