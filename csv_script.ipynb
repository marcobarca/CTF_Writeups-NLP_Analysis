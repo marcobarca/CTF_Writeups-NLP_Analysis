{
 "cells": [
  {
   "cell_type": "code",
   "execution_count": 1,
   "id": "05508212",
   "metadata": {},
   "outputs": [],
   "source": [
    "import os, glob\n",
    "import csv\n",
    "\n",
    "with open('writeups.csv', 'w', encoding='UTF8') as f:\n",
    "\n",
    "    path = './writeups'\n",
    "    header = ['Writeup_name', 'Category', 'Text', 'Overview', 'Analysis', 'Attack_execution']\n",
    "    \n",
    "    writer = csv.writer(f)\n",
    "\n",
    "    # write the header\n",
    "    writer.writerow(header)\n",
    "\n",
    "\n",
    "    def data_creation(writeup_name, category, text, tag):\n",
    "        data = ''\n",
    "        if(tag == \"Overview\" or tag == \"overview\"):\n",
    "            data = [writeup_name.replace(path, '').replace('/', '').replace('.txt', ''), 'web', text, 1, 0, 0]\n",
    "        if(tag == \"Analysis\" or tag == \"analysis\"):\n",
    "            data = [writeup_name.replace(path, '').replace('/', '').replace('.txt', ''), 'web', text, 0, 1, 0]\n",
    "        if(tag == \"Attack Execution\" or tag == \"AttackExecution\" or tag == \"attack execution\"):\n",
    "            data = [writeup_name.replace(path, '').replace('/', '').replace('.txt', ''), 'web', text, 0, 0, 1]\n",
    "        writer.writerow(data)\n",
    "\n",
    "\n",
    "    # Iterate over all txt files in the directory\n",
    "    for filename in glob.glob(os.path.join(path, '*.txt')):\n",
    "        #print(filename)\n",
    "        with open(os.path.join(os.getcwd(), filename), 'r') as f:\n",
    "            lines_list = []\n",
    "            for line in f:\n",
    "                if(line != '\\n' and not line.isspace()):\n",
    "                    lines_list.append(line)\n",
    "                \n",
    "            text = \"\"\n",
    "            tag = \"\"\n",
    "            \n",
    "            for line in lines_list:\n",
    "                # Tag line\n",
    "                if(line[0] == '#'):\n",
    "                    if(len(text) != 0):\n",
    "                        data_creation(filename, 'web', text, tag)\n",
    "                        text = ''\n",
    "                    string = ''.join(line)\n",
    "                    tag = string.replace('# ', '').replace('#', '').replace(' ', '').replace('\\n', '')\n",
    "                # Not Tag line\n",
    "                else:\n",
    "                    new_line = ''.join(line)\n",
    "                    text = text + new_line\n",
    "                if(len(lines_list) -1 == lines_list.index(line)):\n",
    "                    data_creation(filename, 'web', text, tag)"
   ]
  },
  {
   "cell_type": "code",
   "execution_count": null,
   "id": "cb1c7026",
   "metadata": {},
   "outputs": [],
   "source": []
  }
 ],
 "metadata": {
  "kernelspec": {
   "display_name": "Python 3 (ipykernel)",
   "language": "python",
   "name": "python3"
  },
  "language_info": {
   "codemirror_mode": {
    "name": "ipython",
    "version": 3
   },
   "file_extension": ".py",
   "mimetype": "text/x-python",
   "name": "python",
   "nbconvert_exporter": "python",
   "pygments_lexer": "ipython3",
   "version": "3.9.12"
  }
 },
 "nbformat": 4,
 "nbformat_minor": 5
}
