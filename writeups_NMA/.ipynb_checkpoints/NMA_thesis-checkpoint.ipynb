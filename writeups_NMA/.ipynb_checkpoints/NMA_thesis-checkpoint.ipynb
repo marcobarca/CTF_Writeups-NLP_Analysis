{
 "cells": [
  {
   "cell_type": "code",
   "execution_count": 4,
   "id": "23929797",
   "metadata": {},
   "outputs": [],
   "source": [
    "import pandas as pd\n",
    "npr = pd.read_csv('../writeups.csv')"
   ]
  },
  {
   "cell_type": "code",
   "execution_count": 5,
   "id": "c2fdb745",
   "metadata": {},
   "outputs": [],
   "source": [
    "from sklearn.feature_extraction.text import TfidfVectorizer\n",
    "\n",
    "tfidf = TfidfVectorizer(max_df=0.95, min_df=2, stop_words='english')\n",
    "\n",
    "dtm = tfidf.fit_transform(npr['Text'])"
   ]
  },
  {
   "cell_type": "code",
   "execution_count": 9,
   "id": "eb3a5e16",
   "metadata": {},
   "outputs": [
    {
     "name": "stdout",
     "output_type": "stream",
     "text": [
      "THE TOP 15 WORDS FOR TOPIC #0\n",
      "['string', 'challenge', 'input', 'payload', 'url', 'bypass', 'function', 'flag', 'code', 'file']\n",
      "\n",
      "\n",
      "THE TOP 15 WORDS FOR TOPIC #1\n",
      "['body', 'snippet', 'admin', 'code', 'request', '__proto__', 'index', 'followers', 'value', 'array']\n",
      "\n",
      "\n",
      "THE TOP 15 WORDS FOR TOPIC #2\n",
      "['description', 'ldap', 'username', 'hash', 'login', 'user', 'log', 'page', 'admin', 'password']\n",
      "\n",
      "\n"
     ]
    },
    {
     "name": "stderr",
     "output_type": "stream",
     "text": [
      "/Users/marco/opt/anaconda3/lib/python3.9/site-packages/sklearn/decomposition/_nmf.py:289: FutureWarning: The 'init' value, when 'init=None' and n_components is less than n_samples and n_features, will be changed from 'nndsvd' to 'nndsvda' in 1.1 (renaming of 0.26).\n",
      "  warnings.warn(\n"
     ]
    }
   ],
   "source": [
    "from sklearn.decomposition import NMF\n",
    "\n",
    "nmf_model = NMF(n_components=3, random_state=42)\n",
    "\n",
    "nmf_model.fit(dtm)\n",
    "\n",
    "for index,topic in enumerate(nmf_model.components_):\n",
    "    print(f\"THE TOP 15 WORDS FOR TOPIC #{index}\")\n",
    "    print([tfidf.get_feature_names_out()[i] for i in topic.argsort()[-10:]])\n",
    "    print(\"\\n\")"
   ]
  },
  {
   "cell_type": "code",
   "execution_count": 17,
   "id": "41b99baf",
   "metadata": {},
   "outputs": [],
   "source": [
    "topic_results = nmf_model.transform(dtm)\n",
    "\n",
    "npr['Topic'] = topic_results.argmax(axis=1)\n",
    "\n",
    "topic_dictionary = {0:'Topic 0',1:'Topic 1',2:'Topic 2'}\n",
    "\n",
    "npr['Topic Label'] = npr['Topic'].map(topic_dictionary)\n",
    "\n",
    "npr.to_csv(r'export_dataframe.csv', index=False, header=True)"
   ]
  },
  {
   "cell_type": "code",
   "execution_count": null,
   "id": "c57013ac",
   "metadata": {},
   "outputs": [],
   "source": []
  }
 ],
 "metadata": {
  "kernelspec": {
   "display_name": "Python 3 (ipykernel)",
   "language": "python",
   "name": "python3"
  },
  "language_info": {
   "codemirror_mode": {
    "name": "ipython",
    "version": 3
   },
   "file_extension": ".py",
   "mimetype": "text/x-python",
   "name": "python",
   "nbconvert_exporter": "python",
   "pygments_lexer": "ipython3",
   "version": "3.9.12"
  }
 },
 "nbformat": 4,
 "nbformat_minor": 5
}
